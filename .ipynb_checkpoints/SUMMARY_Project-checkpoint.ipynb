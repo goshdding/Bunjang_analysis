{
 "cells": [
  {
   "cell_type": "markdown",
   "id": "5981097c",
   "metadata": {},
   "source": [
    "# 중고나라 데이터 분석 프로젝트(가제)\n",
    "\n",
    "## 합리적인 나이키 신발 구매\n",
    "\n",
    "### 분석목적\n",
    "- 가격 변화\n",
    "- 중고가 ~ 현물가(머스트잇,크림) 비교\n",
    "- 같은 제품의 플랫폼별(중고나라, 번개장터) 가격 비교 (강사님께 질문)\n",
    "- 기간별 중고로 풀리는 명품 or 중고 수량 비교 (많이 풀리거나 떨어지는 기간이 있다면 인사이트가 될 것으로 기대)\n",
    "- 네이버 검색량과 비교\n",
    "- 허탕 비율 (내 검색어로 검색했는데 다른 상품이나왔을때) - 만약 이게 높다면 타사에 비해 경쟁력이 떨어지는 원인으로 인식될 수 있음\n",
    "- 중고나라의 시세 추이가 현물 시세랑 얼마나 차이나는지/비슷한지\n",
    "- 재발매일, 출시일에 대한 정보도 추가\n",
    "\n",
    "### 데이터\n",
    "- 날짜(일자별 데이터 from 중고나라)\n",
    "- 등록 수 (from 중고나라)\n",
    "- 가격 (중고나라 가격, 크림 가격-리셀, 정가)\n",
    "- 상태(양호/보통/불량)\n",
    "- 신발유형 (M/GS/PS)\n",
    "- 검색어 트렌드 (from 네이버 데이터랩)\n",
    "\n",
    "\n",
    "### 키워드\n",
    "- 선정배경: 검색량 , 크림 판매수량 (예시 선정 기준)\n",
    "- 나이키 덩크로우 범고래 + 나이키 덩크로우 블랙 (중고나라 :436건)\n",
    "- 뉴발란스 992 그레이 (중고나라 : 121건)\n",
    "- 커먼 프로젝트 아킬레스 로우 (중고나라 : 106건)\n",
    "- 뉴발란스 327\n",
    "- 마르지엘라 독일군 페인팅 (레드/블랙 제거, 103건)\n",
    "- 피스마이너원 (지디 , 449건) : (여러 키워드로 검색해 데이터 추출가능)\n",
    "\n",
    "<font color=red>[수정]\n",
    "- 다시 정리</font>"
   ]
  },
  {
   "cell_type": "markdown",
   "id": "95a2ac38",
   "metadata": {},
   "source": [
    "필요한 컬럼 : 날짜 / 사이즈 / 중고여부 / 착용횟수(?) / 색깔(나중에) / 발매 일자 / 드로우일자"
   ]
  },
  {
   "cell_type": "markdown",
   "id": "937a45b9",
   "metadata": {},
   "source": [
    "## 패키지 임포트"
   ]
  },
  {
   "cell_type": "code",
   "execution_count": 2,
   "id": "aef17b5a",
   "metadata": {},
   "outputs": [],
   "source": [
    "import requests\n",
    "from bs4 import BeautifulSoup\n",
    "import json\n",
    "import time\n",
    "\n",
    "import pandas as pd\n",
    "import numpy as np\n",
    "\n",
    "\n",
    "pd.options.display.max_rows=100\n",
    "pd.options.display.max_columns=100"
   ]
  },
  {
   "cell_type": "markdown",
   "id": "960147d2",
   "metadata": {},
   "source": [
    "## 데이터 수집(크롤링)\n",
    "\n",
    "- 번개장터 '키워드' 검색에 따른 상품 데이터\n",
    "\n",
    "<font color=red>[추가]\n",
    "1. 함수화시켜서 간단하게 적용할 수 있도록 만들어야 한다.\n",
    "2. 키워드 for문으로 여러개 한번에 적용하도록 만든다.</font>"
   ]
  },
  {
   "cell_type": "code",
   "execution_count": 18,
   "id": "f489a384",
   "metadata": {},
   "outputs": [],
   "source": [
    "# # 함수버전\n",
    "# # 나중에 다시 시도\n",
    "\n",
    "# def bunkae_crawling(keyword, url, n=20):    \n",
    "#     bunkae = pd.DataFrame()\n",
    "#     info = {\n",
    "#     'referer': 'https://m.bunjang.co.kr/',\n",
    "#     'user-agent': 'Mozilla/5.0 (Macintosh; Intel Mac OS X 10_15_7) AppleWebKit/537.36 (KHTML, like Gecko) Chrome/95.0.4638.54 Safari/537.36'\n",
    "#     }\n",
    "#     for i in range(0,n):\n",
    "#         # 차단막는 코드, 랜덤으로 time.sleep 지정\n",
    "#         seed = np.random.randint(100)\n",
    "#         np.random.seed(seed)\n",
    "#         a = np.random.randint(5)\n",
    "#         time.sleep(a)        \n",
    "#         print(f'{i}회차 크롤링 중입니다.')\n",
    "#         # requests로 데이터 요청하기\n",
    "#         resp = requests.get(url, headers = info)\n",
    "\n",
    "#         if resp.status_code == requests.codes.ok:\n",
    "#             data = json.loads(resp.text)\n",
    "#             prior_bunkae = pd.DataFrame(data['list'])\n",
    "#             bunkae = pd.concat([prior_bunkae, bunkae])\n",
    "\n",
    "#         else:\n",
    "#             print(f'{i}번째 요청이 잘 못 되었습니다.')\n",
    "#             pass # 넘겨준다.\n",
    "\n",
    "#     print('크롤링 완료!!')\n",
    "#     bunkae.reset_index(drop=True, inplace=True)\n",
    "    \n",
    "#     return bunkae"
   ]
  },
  {
   "cell_type": "code",
   "execution_count": 84,
   "id": "1ee35a70",
   "metadata": {},
   "outputs": [
    {
     "name": "stdout",
     "output_type": "stream",
     "text": [
      "0회차 크롤링 중입니다.\n",
      "1회차 크롤링 중입니다.\n",
      "2회차 크롤링 중입니다.\n",
      "3회차 크롤링 중입니다.\n",
      "4회차 크롤링 중입니다.\n",
      "5회차 크롤링 중입니다.\n",
      "6회차 크롤링 중입니다.\n",
      "7회차 크롤링 중입니다.\n",
      "8회차 크롤링 중입니다.\n",
      "9회차 크롤링 중입니다.\n",
      "10회차 크롤링 중입니다.\n",
      "11회차 크롤링 중입니다.\n",
      "12회차 크롤링 중입니다.\n",
      "13회차 크롤링 중입니다.\n",
      "14회차 크롤링 중입니다.\n",
      "15회차 크롤링 중입니다.\n",
      "16회차 크롤링 중입니다.\n",
      "17회차 크롤링 중입니다.\n",
      "18회차 크롤링 중입니다.\n",
      "19회차 크롤링 중입니다.\n",
      "크롤링 완료!!\n"
     ]
    }
   ],
   "source": [
    "keyword = '나이키 덩크로우 범고래'\n",
    "bunkae = pd.DataFrame()\n",
    "info = {\n",
    "    'referer': 'https://m.bunjang.co.kr/',\n",
    "    'user-agent': 'Mozilla/5.0 (Macintosh; Intel Mac OS X 10_15_7) AppleWebKit/537.36 (KHTML, like Gecko) Chrome/95.0.4638.54 Safari/537.36'\n",
    "    }\n",
    "\n",
    "for i in range(0,20):\n",
    "    \n",
    "    # 차단막는 코드, 랜덤으로 time.sleep 지정\n",
    "    seed = np.random.randint(100)\n",
    "    np.random.seed(seed)\n",
    "    a = np.random.randint(3)\n",
    "    time.sleep(a)\n",
    "    \n",
    "    # url 설정 (i는 0부터 시작, page=0,1,2,3 ....)\n",
    "#     url = f'https://api.bunjang.co.kr/api/1/find_v2.json?q={keyword}&order=score&page={i}&request_id=20211109155207&stat_device=w&n=100&stat_category_required=1&req_ref=search&version=4'\n",
    "    url = f'https://api.bunjang.co.kr/api/1/find_v2.json?q={keyword}&order=date&page={i}&request_id=20211110111822&stat_uid=77848616&token=c63b703f121940d189c222b3335d80ed&stat_device=w&n=100&stat_category_required=1&req_ref=search&version=4'\n",
    "#     https://api.bunjang.co.kr/api/1/find_v2.json?q=%EB%82%98%EC%9D%B4%ED%82%A4+%EB%8D%A9%ED%81%AC%EB%A1%9C%EC%9A%B0+%EB%B2%94%EA%B3%A0%EB%9E%98&order=date&page=0&request_id=20211110133211&stat_uid=77848616&token=c63b703f121940d189c222b3335d80ed&stat_device=w&n=100&stat_category_required=1&req_ref=search&version=4\n",
    "    print(f'{i}회차 크롤링 중입니다.')\n",
    "    # requests로 데이터 요청하기\n",
    "    resp = requests.get(url, headers = info)\n",
    "    \n",
    "    if resp.status_code == requests.codes.ok:\n",
    "        data = json.loads(resp.text)\n",
    "        next_bunkae = pd.DataFrame(data['list'])\n",
    "        bunkae = pd.concat([bunkae, next_bunkae])\n",
    "        \n",
    "    else:\n",
    "        print(f'{i}번째 요청이 잘 못 되었습니다.')\n",
    "        pass # 넘겨준다.\n",
    "              \n",
    "print('크롤링 완료!!')\n",
    "bunkae.reset_index(drop=True, inplace=True)"
   ]
  },
  {
   "cell_type": "markdown",
   "id": "c8b3d61e",
   "metadata": {},
   "source": [
    "# 번개장터 데이터 설명\n",
    "\n",
    "from : https://m.bunjang.co.kr/  (중고상품 판매 플랫폼 번개장터)\n",
    "\n",
    "### 컬럼 설명\n",
    "\n",
    "**굵은 글씨**는 우리 분석에 꼭 필요한 컬럼\n",
    "\n",
    "- location : 등록 주소\n",
    "- **name** : 판매자가 등록한 상품명\n",
    "- **num_faved** : 좋아요 수\n",
    "- pid : 상품아이디, @@@@@@@에 입력하면 해당 페이지로 이동함.-> https://m.bunjang.co.kr/products/@@@@@@@?q=%EB%82%98%EC%9D%B4%ED%82%A4%20%EB%8D%A9%ED%81%AC%EB%A1%9C%EC%9A%B0%20%EB%B2%94%EA%B3%A0%EB%9E%98&ref=%EA%B2%80%EC%83%89%EA%B2%B0%EA%B3%BC\n",
    "- **price** : 가격\n",
    "- product_image : 이미지 주소\n",
    "- tag : 태그\n",
    "- uid : 상품자 아이디? 아직 잘 모름\n",
    "- status (0 = 판매중 / 1 = 예약완료 / 3 = 판매완료) : 상품 판매 상태\n",
    "- **update_time** : 등록일 (<font color=red>기준은 찾아서 datetime형식으로 변환해야함</font>)\n",
    "- **used** (1 = 중고 / 2 = 새상품 / 13 = 중고) : 상품상태  <font color=red>1과 13의 차이 아직 찾지 못했음</font>"
   ]
  },
  {
   "cell_type": "markdown",
   "id": "d0358b86",
   "metadata": {},
   "source": [
    "# EDA"
   ]
  },
  {
   "cell_type": "markdown",
   "id": "ce5b2f4c",
   "metadata": {},
   "source": [
    "#### 데이터 복사 (백업)"
   ]
  },
  {
   "cell_type": "code",
   "execution_count": 87,
   "id": "6f99effa",
   "metadata": {},
   "outputs": [],
   "source": [
    "bunkae_df = bunkae.copy()"
   ]
  },
  {
   "cell_type": "markdown",
   "id": "c435379a",
   "metadata": {},
   "source": [
    "#### 시간데이터 확인"
   ]
  },
  {
   "cell_type": "code",
   "execution_count": 56,
   "id": "ed4fe487",
   "metadata": {
    "scrolled": true
   },
   "outputs": [
    {
     "data": {
      "text/plain": [
       "{1, 2}"
      ]
     },
     "execution_count": 56,
     "metadata": {},
     "output_type": "execute_result"
    }
   ],
   "source": [
    "bunkae.sort_values(by='update_time', ascending=False)[['pid','update_time']].value_counts()"
   ]
  },
  {
   "cell_type": "markdown",
   "id": "0ba17406",
   "metadata": {},
   "source": [
    "#### 중복값 확인\n",
    "- 예상 : ~~페이지 두번 끌어오기?~~ ~~끌어올리기해서 중복?~~\n",
    "- 확인 결과 : 새로운 상품이 올라오면서 같은 상품이 페이지로 넘어가 중복값이 19개 발생되었음"
   ]
  },
  {
   "cell_type": "code",
   "execution_count": 82,
   "id": "8216a9a0",
   "metadata": {
    "scrolled": false
   },
   "outputs": [
    {
     "data": {
      "text/plain": [
       "3    1251\n",
       "0     568\n",
       "1      98\n",
       "Name: status, dtype: int64"
      ]
     },
     "execution_count": 82,
     "metadata": {},
     "output_type": "execute_result"
    }
   ],
   "source": [
    "bunkae_df['status'].value_counts()"
   ]
  },
  {
   "cell_type": "code",
   "execution_count": 86,
   "id": "5cf0bd10",
   "metadata": {
    "collapsed": true
   },
   "outputs": [
    {
     "data": {
      "text/html": [
       "<div>\n",
       "<style scoped>\n",
       "    .dataframe tbody tr th:only-of-type {\n",
       "        vertical-align: middle;\n",
       "    }\n",
       "\n",
       "    .dataframe tbody tr th {\n",
       "        vertical-align: top;\n",
       "    }\n",
       "\n",
       "    .dataframe thead th {\n",
       "        text-align: right;\n",
       "    }\n",
       "</style>\n",
       "<table border=\"1\" class=\"dataframe\">\n",
       "  <thead>\n",
       "    <tr style=\"text-align: right;\">\n",
       "      <th></th>\n",
       "      <th>ad</th>\n",
       "      <th>bizseller</th>\n",
       "      <th>checkout</th>\n",
       "      <th>contact_hope</th>\n",
       "      <th>free_shipping</th>\n",
       "      <th>is_adult</th>\n",
       "      <th>is_super_up_shop</th>\n",
       "      <th>location</th>\n",
       "      <th>max_cpc</th>\n",
       "      <th>name</th>\n",
       "      <th>num_comment</th>\n",
       "      <th>num_faved</th>\n",
       "      <th>only_neighborhood</th>\n",
       "      <th>outlink_url</th>\n",
       "      <th>pid</th>\n",
       "      <th>price</th>\n",
       "      <th>product_image</th>\n",
       "      <th>pu_id</th>\n",
       "      <th>ref_campaign</th>\n",
       "      <th>ref_code</th>\n",
       "      <th>ref_medium</th>\n",
       "      <th>ref_content</th>\n",
       "      <th>ref_source</th>\n",
       "      <th>status</th>\n",
       "      <th>style</th>\n",
       "      <th>super_up</th>\n",
       "      <th>tag</th>\n",
       "      <th>uid</th>\n",
       "      <th>update_time</th>\n",
       "      <th>used</th>\n",
       "      <th>bun_pay_filter_enabled</th>\n",
       "      <th>imp_id</th>\n",
       "      <th>ad_ref</th>\n",
       "      <th>faved</th>\n",
       "    </tr>\n",
       "  </thead>\n",
       "  <tbody>\n",
       "    <tr>\n",
       "      <th>708</th>\n",
       "      <td>False</td>\n",
       "      <td>False</td>\n",
       "      <td>False</td>\n",
       "      <td>False</td>\n",
       "      <td>False</td>\n",
       "      <td>False</td>\n",
       "      <td>None</td>\n",
       "      <td>경기도 고양시 덕양구 화정1동</td>\n",
       "      <td>None</td>\n",
       "      <td>나이키 덩크로우 범고래 250 새상품</td>\n",
       "      <td>0</td>\n",
       "      <td>1</td>\n",
       "      <td>False</td>\n",
       "      <td></td>\n",
       "      <td>169347776</td>\n",
       "      <td>300000</td>\n",
       "      <td>https://media.bunjang.co.kr/product/169347776_...</td>\n",
       "      <td>None</td>\n",
       "      <td>None</td>\n",
       "      <td>soldout_test_v2:B</td>\n",
       "      <td>None</td>\n",
       "      <td></td>\n",
       "      <td></td>\n",
       "      <td>3</td>\n",
       "      <td></td>\n",
       "      <td>None</td>\n",
       "      <td>나이키덩크로우범고 나이키250 범고래\\n나이키덩크</td>\n",
       "      <td>3379380</td>\n",
       "      <td>1636376671</td>\n",
       "      <td>2</td>\n",
       "      <td>True</td>\n",
       "      <td>380c618b4b7200b4ad57</td>\n",
       "      <td></td>\n",
       "      <td>False</td>\n",
       "    </tr>\n",
       "  </tbody>\n",
       "</table>\n",
       "</div>"
      ],
      "text/plain": [
       "        ad  bizseller  checkout  contact_hope  free_shipping  is_adult  \\\n",
       "708  False      False     False         False          False     False   \n",
       "\n",
       "    is_super_up_shop          location max_cpc                  name  \\\n",
       "708             None  경기도 고양시 덕양구 화정1동    None  나이키 덩크로우 범고래 250 새상품   \n",
       "\n",
       "    num_comment num_faved  only_neighborhood outlink_url        pid   price  \\\n",
       "708           0         1              False              169347776  300000   \n",
       "\n",
       "                                         product_image pu_id ref_campaign  \\\n",
       "708  https://media.bunjang.co.kr/product/169347776_...  None         None   \n",
       "\n",
       "              ref_code ref_medium ref_content ref_source status style  \\\n",
       "708  soldout_test_v2:B       None                             3         \n",
       "\n",
       "    super_up                          tag      uid  update_time  used  \\\n",
       "708     None  나이키덩크로우범고 나이키250 범고래\\n나이키덩크  3379380   1636376671     2   \n",
       "\n",
       "     bun_pay_filter_enabled                imp_id ad_ref  faved  \n",
       "708                    True  380c618b4b7200b4ad57         False  "
      ]
     },
     "execution_count": 86,
     "metadata": {},
     "output_type": "execute_result"
    }
   ],
   "source": [
    "bunkae_df[bunkae_df['pid'] == '169347776'].head(1)"
   ]
  },
  {
   "cell_type": "code",
   "execution_count": 89,
   "id": "67b22e27",
   "metadata": {
    "scrolled": false
   },
   "outputs": [
    {
     "data": {
      "text/html": [
       "<div>\n",
       "<style scoped>\n",
       "    .dataframe tbody tr th:only-of-type {\n",
       "        vertical-align: middle;\n",
       "    }\n",
       "\n",
       "    .dataframe tbody tr th {\n",
       "        vertical-align: top;\n",
       "    }\n",
       "\n",
       "    .dataframe thead th {\n",
       "        text-align: right;\n",
       "    }\n",
       "</style>\n",
       "<table border=\"1\" class=\"dataframe\">\n",
       "  <thead>\n",
       "    <tr style=\"text-align: right;\">\n",
       "      <th></th>\n",
       "      <th>ad</th>\n",
       "      <th>bizseller</th>\n",
       "      <th>checkout</th>\n",
       "      <th>contact_hope</th>\n",
       "      <th>free_shipping</th>\n",
       "      <th>is_adult</th>\n",
       "      <th>is_super_up_shop</th>\n",
       "      <th>location</th>\n",
       "      <th>max_cpc</th>\n",
       "      <th>name</th>\n",
       "      <th>num_comment</th>\n",
       "      <th>num_faved</th>\n",
       "      <th>only_neighborhood</th>\n",
       "      <th>outlink_url</th>\n",
       "      <th>pid</th>\n",
       "      <th>price</th>\n",
       "      <th>product_image</th>\n",
       "      <th>pu_id</th>\n",
       "      <th>ref_campaign</th>\n",
       "      <th>ref_code</th>\n",
       "      <th>ref_medium</th>\n",
       "      <th>ref_content</th>\n",
       "      <th>ref_source</th>\n",
       "      <th>status</th>\n",
       "      <th>style</th>\n",
       "      <th>super_up</th>\n",
       "      <th>tag</th>\n",
       "      <th>uid</th>\n",
       "      <th>update_time</th>\n",
       "      <th>used</th>\n",
       "      <th>bun_pay_filter_enabled</th>\n",
       "      <th>imp_id</th>\n",
       "      <th>ad_ref</th>\n",
       "      <th>faved</th>\n",
       "    </tr>\n",
       "  </thead>\n",
       "  <tbody>\n",
       "  </tbody>\n",
       "</table>\n",
       "</div>"
      ],
      "text/plain": [
       "Empty DataFrame\n",
       "Columns: [ad, bizseller, checkout, contact_hope, free_shipping, is_adult, is_super_up_shop, location, max_cpc, name, num_comment, num_faved, only_neighborhood, outlink_url, pid, price, product_image, pu_id, ref_campaign, ref_code, ref_medium, ref_content, ref_source, status, style, super_up, tag, uid, update_time, used, bun_pay_filter_enabled, imp_id, ad_ref, faved]\n",
       "Index: []"
      ]
     },
     "execution_count": 89,
     "metadata": {},
     "output_type": "execute_result"
    }
   ],
   "source": [
    "bunkae_df[bunkae_df.duplicated(['pid'])].head(1)"
   ]
  },
  {
   "cell_type": "markdown",
   "id": "8606aad2",
   "metadata": {},
   "source": [
    "#### 중복값 제거"
   ]
  },
  {
   "cell_type": "code",
   "execution_count": 90,
   "id": "be49ac2e",
   "metadata": {},
   "outputs": [],
   "source": [
    "bunkae_df.drop_duplicates(['pid'], keep='first', inplace=True)"
   ]
  },
  {
   "cell_type": "code",
   "execution_count": 91,
   "id": "54e2ccfd",
   "metadata": {},
   "outputs": [
    {
     "data": {
      "text/plain": [
       "1917"
      ]
     },
     "execution_count": 91,
     "metadata": {},
     "output_type": "execute_result"
    }
   ],
   "source": [
    "len(bunkae_df)"
   ]
  },
  {
   "cell_type": "markdown",
   "id": "4efd9b6f",
   "metadata": {},
   "source": [
    "#### 저장"
   ]
  },
  {
   "cell_type": "code",
   "execution_count": null,
   "id": "70da664a",
   "metadata": {},
   "outputs": [],
   "source": [
    "# bunkae.to_csv"
   ]
  },
  {
   "cell_type": "code",
   "execution_count": null,
   "id": "008d3f5f",
   "metadata": {},
   "outputs": [],
   "source": []
  }
 ],
 "metadata": {
  "kernelspec": {
   "display_name": "Python 3",
   "language": "python",
   "name": "python3"
  },
  "language_info": {
   "codemirror_mode": {
    "name": "ipython",
    "version": 3
   },
   "file_extension": ".py",
   "mimetype": "text/x-python",
   "name": "python",
   "nbconvert_exporter": "python",
   "pygments_lexer": "ipython3",
   "version": "3.8.8"
  },
  "toc": {
   "base_numbering": 1,
   "nav_menu": {},
   "number_sections": true,
   "sideBar": true,
   "skip_h1_title": false,
   "title_cell": "Table of Contents",
   "title_sidebar": "Contents",
   "toc_cell": false,
   "toc_position": {},
   "toc_section_display": true,
   "toc_window_display": false
  },
  "varInspector": {
   "cols": {
    "lenName": 16,
    "lenType": 16,
    "lenVar": 40
   },
   "kernels_config": {
    "python": {
     "delete_cmd_postfix": "",
     "delete_cmd_prefix": "del ",
     "library": "var_list.py",
     "varRefreshCmd": "print(var_dic_list())"
    },
    "r": {
     "delete_cmd_postfix": ") ",
     "delete_cmd_prefix": "rm(",
     "library": "var_list.r",
     "varRefreshCmd": "cat(var_dic_list()) "
    }
   },
   "types_to_exclude": [
    "module",
    "function",
    "builtin_function_or_method",
    "instance",
    "_Feature"
   ],
   "window_display": false
  }
 },
 "nbformat": 4,
 "nbformat_minor": 5
}
