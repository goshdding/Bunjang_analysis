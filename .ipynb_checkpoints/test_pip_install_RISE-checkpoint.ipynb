{
 "cells": [
  {
   "cell_type": "code",
   "execution_count": 5,
   "id": "91d800e0",
   "metadata": {
    "slideshow": {
     "slide_type": "slide"
    }
   },
   "outputs": [
    {
     "name": "stdout",
     "output_type": "stream",
     "text": [
      "Requirement already satisfied: RISE in c:\\users\\82105\\anaconda3\\envs\\fc_bda\\lib\\site-packages (5.7.1)\n",
      "Requirement already satisfied: notebook>=6.0 in c:\\users\\82105\\anaconda3\\envs\\fc_bda\\lib\\site-packages (from RISE) (6.3.0)\n",
      "Requirement already satisfied: jinja2 in c:\\users\\82105\\anaconda3\\envs\\fc_bda\\lib\\site-packages (from notebook>=6.0->RISE) (2.11.3)\n",
      "Requirement already satisfied: argon2-cffi in c:\\users\\82105\\anaconda3\\envs\\fc_bda\\lib\\site-packages (from notebook>=6.0->RISE) (20.1.0)\n",
      "Note: you may need to restart the kernel to use updated packages.\n",
      "Requirement already satisfied: pyzmq>=17 in c:\\users\\82105\\anaconda3\\envs\\fc_bda\\lib\\site-packages (from notebook>=6.0->RISE) (20.0.0)\n",
      "Requirement already satisfied: jupyter-client>=5.3.4 in c:\\users\\82105\\anaconda3\\envs\\fc_bda\\lib\\site-packages (from notebook>=6.0->RISE) (6.1.12)\n",
      "Requirement already satisfied: nbformat in c:\\users\\82105\\anaconda3\\envs\\fc_bda\\lib\\site-packages (from notebook>=6.0->RISE) (5.1.3)\n",
      "Requirement already satisfied: nbconvert in c:\\users\\82105\\anaconda3\\envs\\fc_bda\\lib\\site-packages (from notebook>=6.0->RISE) (6.0.7)\n",
      "Requirement already satisfied: tornado>=6.1 in c:\\users\\82105\\anaconda3\\envs\\fc_bda\\lib\\site-packages (from notebook>=6.0->RISE) (6.1)\n",
      "Requirement already satisfied: jupyter-core>=4.6.1 in c:\\users\\82105\\anaconda3\\envs\\fc_bda\\lib\\site-packages (from notebook>=6.0->RISE) (4.7.1)\n",
      "Requirement already satisfied: prometheus-client in c:\\users\\82105\\anaconda3\\envs\\fc_bda\\lib\\site-packages (from notebook>=6.0->RISE) (0.10.1)\n",
      "Requirement already satisfied: ipython-genutils in c:\\users\\82105\\anaconda3\\envs\\fc_bda\\lib\\site-packages (from notebook>=6.0->RISE) (0.2.0)\n",
      "Requirement already satisfied: Send2Trash>=1.5.0 in c:\\users\\82105\\anaconda3\\envs\\fc_bda\\lib\\site-packages (from notebook>=6.0->RISE) (1.5.0)\n",
      "Requirement already satisfied: ipykernel in c:\\users\\82105\\anaconda3\\envs\\fc_bda\\lib\\site-packages (from notebook>=6.0->RISE) (5.3.4)\n",
      "Requirement already satisfied: traitlets>=4.2.1 in c:\\users\\82105\\anaconda3\\envs\\fc_bda\\lib\\site-packages (from notebook>=6.0->RISE) (5.0.5)\n",
      "Requirement already satisfied: terminado>=0.8.3 in c:\\users\\82105\\anaconda3\\envs\\fc_bda\\lib\\site-packages (from notebook>=6.0->RISE) (0.9.4)\n",
      "Requirement already satisfied: python-dateutil>=2.1 in c:\\users\\82105\\anaconda3\\envs\\fc_bda\\lib\\site-packages (from jupyter-client>=5.3.4->notebook>=6.0->RISE) (2.8.1)\n",
      "Requirement already satisfied: pywin32>=1.0 in c:\\users\\82105\\anaconda3\\envs\\fc_bda\\lib\\site-packages (from jupyter-core>=4.6.1->notebook>=6.0->RISE) (227)\n",
      "Requirement already satisfied: six>=1.5 in c:\\users\\82105\\anaconda3\\envs\\fc_bda\\lib\\site-packages (from python-dateutil>=2.1->jupyter-client>=5.3.4->notebook>=6.0->RISE) (1.15.0)\n",
      "Requirement already satisfied: pywinpty>=0.5 in c:\\users\\82105\\anaconda3\\envs\\fc_bda\\lib\\site-packages (from terminado>=0.8.3->notebook>=6.0->RISE) (0.5.7)\n",
      "Requirement already satisfied: cffi>=1.0.0 in c:\\users\\82105\\anaconda3\\envs\\fc_bda\\lib\\site-packages (from argon2-cffi->notebook>=6.0->RISE) (1.14.5)\n",
      "Requirement already satisfied: pycparser in c:\\users\\82105\\anaconda3\\envs\\fc_bda\\lib\\site-packages (from cffi>=1.0.0->argon2-cffi->notebook>=6.0->RISE) (2.20)\n",
      "Requirement already satisfied: ipython>=5.0.0 in c:\\users\\82105\\anaconda3\\envs\\fc_bda\\lib\\site-packages (from ipykernel->notebook>=6.0->RISE) (7.22.0)\n",
      "Requirement already satisfied: pickleshare in c:\\users\\82105\\anaconda3\\envs\\fc_bda\\lib\\site-packages (from ipython>=5.0.0->ipykernel->notebook>=6.0->RISE) (0.7.5)\n",
      "Requirement already satisfied: setuptools>=18.5 in c:\\users\\82105\\anaconda3\\envs\\fc_bda\\lib\\site-packages (from ipython>=5.0.0->ipykernel->notebook>=6.0->RISE) (52.0.0.post20210125)\n",
      "Requirement already satisfied: decorator in c:\\users\\82105\\anaconda3\\envs\\fc_bda\\lib\\site-packages (from ipython>=5.0.0->ipykernel->notebook>=6.0->RISE) (5.0.6)\n",
      "Requirement already satisfied: jedi>=0.16 in c:\\users\\82105\\anaconda3\\envs\\fc_bda\\lib\\site-packages (from ipython>=5.0.0->ipykernel->notebook>=6.0->RISE) (0.17.2)\n",
      "Requirement already satisfied: prompt-toolkit!=3.0.0,!=3.0.1,<3.1.0,>=2.0.0 in c:\\users\\82105\\anaconda3\\envs\\fc_bda\\lib\\site-packages (from ipython>=5.0.0->ipykernel->notebook>=6.0->RISE) (3.0.17)\n",
      "Requirement already satisfied: pygments in c:\\users\\82105\\anaconda3\\envs\\fc_bda\\lib\\site-packages (from ipython>=5.0.0->ipykernel->notebook>=6.0->RISE) (2.8.1)\n",
      "Requirement already satisfied: backcall in c:\\users\\82105\\anaconda3\\envs\\fc_bda\\lib\\site-packages (from ipython>=5.0.0->ipykernel->notebook>=6.0->RISE) (0.2.0)\n",
      "Requirement already satisfied: colorama in c:\\users\\82105\\anaconda3\\envs\\fc_bda\\lib\\site-packages (from ipython>=5.0.0->ipykernel->notebook>=6.0->RISE) (0.4.4)\n",
      "Requirement already satisfied: parso<0.8.0,>=0.7.0 in c:\\users\\82105\\anaconda3\\envs\\fc_bda\\lib\\site-packages (from jedi>=0.16->ipython>=5.0.0->ipykernel->notebook>=6.0->RISE) (0.7.0)\n",
      "Requirement already satisfied: wcwidth in c:\\users\\82105\\anaconda3\\envs\\fc_bda\\lib\\site-packages (from prompt-toolkit!=3.0.0,!=3.0.1,<3.1.0,>=2.0.0->ipython>=5.0.0->ipykernel->notebook>=6.0->RISE) (0.2.5)\n",
      "Requirement already satisfied: MarkupSafe>=0.23 in c:\\users\\82105\\anaconda3\\envs\\fc_bda\\lib\\site-packages (from jinja2->notebook>=6.0->RISE) (1.1.1)\n",
      "Requirement already satisfied: mistune<2,>=0.8.1 in c:\\users\\82105\\anaconda3\\envs\\fc_bda\\lib\\site-packages (from nbconvert->notebook>=6.0->RISE) (0.8.4)\n",
      "Requirement already satisfied: bleach in c:\\users\\82105\\anaconda3\\envs\\fc_bda\\lib\\site-packages (from nbconvert->notebook>=6.0->RISE) (3.3.0)\n",
      "Requirement already satisfied: pandocfilters>=1.4.1 in c:\\users\\82105\\anaconda3\\envs\\fc_bda\\lib\\site-packages (from nbconvert->notebook>=6.0->RISE) (1.4.3)\n",
      "Requirement already satisfied: defusedxml in c:\\users\\82105\\anaconda3\\envs\\fc_bda\\lib\\site-packages (from nbconvert->notebook>=6.0->RISE) (0.7.1)\n",
      "Requirement already satisfied: nbclient<0.6.0,>=0.5.0 in c:\\users\\82105\\anaconda3\\envs\\fc_bda\\lib\\site-packages (from nbconvert->notebook>=6.0->RISE) (0.5.3)\n",
      "Requirement already satisfied: testpath in c:\\users\\82105\\anaconda3\\envs\\fc_bda\\lib\\site-packages (from nbconvert->notebook>=6.0->RISE) (0.4.4)\n",
      "Requirement already satisfied: entrypoints>=0.2.2 in c:\\users\\82105\\anaconda3\\envs\\fc_bda\\lib\\site-packages (from nbconvert->notebook>=6.0->RISE) (0.3)\n",
      "Requirement already satisfied: jupyterlab-pygments in c:\\users\\82105\\anaconda3\\envs\\fc_bda\\lib\\site-packages (from nbconvert->notebook>=6.0->RISE) (0.1.2)\n",
      "Requirement already satisfied: nest-asyncio in c:\\users\\82105\\anaconda3\\envs\\fc_bda\\lib\\site-packages (from nbclient<0.6.0,>=0.5.0->nbconvert->notebook>=6.0->RISE) (1.5.1)\n",
      "Requirement already satisfied: async-generator in c:\\users\\82105\\anaconda3\\envs\\fc_bda\\lib\\site-packages (from nbclient<0.6.0,>=0.5.0->nbconvert->notebook>=6.0->RISE) (1.10)\n",
      "Requirement already satisfied: jsonschema!=2.5.0,>=2.4 in c:\\users\\82105\\anaconda3\\envs\\fc_bda\\lib\\site-packages (from nbformat->notebook>=6.0->RISE) (3.2.0)\n",
      "Requirement already satisfied: pyrsistent>=0.14.0 in c:\\users\\82105\\anaconda3\\envs\\fc_bda\\lib\\site-packages (from jsonschema!=2.5.0,>=2.4->nbformat->notebook>=6.0->RISE) (0.17.3)\n",
      "Requirement already satisfied: attrs>=17.4.0 in c:\\users\\82105\\anaconda3\\envs\\fc_bda\\lib\\site-packages (from jsonschema!=2.5.0,>=2.4->nbformat->notebook>=6.0->RISE) (20.3.0)\n",
      "Requirement already satisfied: webencodings in c:\\users\\82105\\anaconda3\\envs\\fc_bda\\lib\\site-packages (from bleach->nbconvert->notebook>=6.0->RISE) (0.5.1)\n",
      "Requirement already satisfied: packaging in c:\\users\\82105\\anaconda3\\envs\\fc_bda\\lib\\site-packages (from bleach->nbconvert->notebook>=6.0->RISE) (20.9)\n",
      "Requirement already satisfied: pyparsing>=2.0.2 in c:\\users\\82105\\anaconda3\\envs\\fc_bda\\lib\\site-packages (from packaging->bleach->nbconvert->notebook>=6.0->RISE) (2.4.7)\n"
     ]
    }
   ],
   "source": [
    "pip install RISE"
   ]
  },
  {
   "cell_type": "code",
   "execution_count": null,
   "id": "63a5eabd",
   "metadata": {
    "slideshow": {
     "slide_type": "slide"
    }
   },
   "outputs": [],
   "source": []
  }
 ],
 "metadata": {
  "celltoolbar": "Slideshow",
  "kernelspec": {
   "display_name": "Python 3",
   "language": "python",
   "name": "python3"
  },
  "language_info": {
   "codemirror_mode": {
    "name": "ipython",
    "version": 3
   },
   "file_extension": ".py",
   "mimetype": "text/x-python",
   "name": "python",
   "nbconvert_exporter": "python",
   "pygments_lexer": "ipython3",
   "version": "3.8.8"
  },
  "toc": {
   "base_numbering": 1,
   "nav_menu": {},
   "number_sections": true,
   "sideBar": true,
   "skip_h1_title": false,
   "title_cell": "Table of Contents",
   "title_sidebar": "Contents",
   "toc_cell": false,
   "toc_position": {},
   "toc_section_display": true,
   "toc_window_display": false
  },
  "varInspector": {
   "cols": {
    "lenName": 16,
    "lenType": 16,
    "lenVar": 40
   },
   "kernels_config": {
    "python": {
     "delete_cmd_postfix": "",
     "delete_cmd_prefix": "del ",
     "library": "var_list.py",
     "varRefreshCmd": "print(var_dic_list())"
    },
    "r": {
     "delete_cmd_postfix": ") ",
     "delete_cmd_prefix": "rm(",
     "library": "var_list.r",
     "varRefreshCmd": "cat(var_dic_list()) "
    }
   },
   "types_to_exclude": [
    "module",
    "function",
    "builtin_function_or_method",
    "instance",
    "_Feature"
   ],
   "window_display": false
  }
 },
 "nbformat": 4,
 "nbformat_minor": 5
}
