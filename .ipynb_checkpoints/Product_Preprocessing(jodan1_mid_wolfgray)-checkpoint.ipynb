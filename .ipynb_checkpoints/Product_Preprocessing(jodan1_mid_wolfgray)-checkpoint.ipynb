{
 "cells": [
  {
   "cell_type": "markdown",
   "id": "ddb23727",
   "metadata": {},
   "source": [
    "# Product Preprocessing\n",
    "- 뉴발란스 992 그레이를 기준으로 작성하였으며, 제품 바꿔서 사용하면됨\n",
    "- data 명은 bunkae로 통일하여서 바꿔줄 필요없음."
   ]
  },
  {
   "cell_type": "markdown",
   "id": "937a45b9",
   "metadata": {},
   "source": [
    "### import package"
   ]
  },
  {
   "cell_type": "code",
   "execution_count": 24,
   "id": "aef17b5a",
   "metadata": {},
   "outputs": [],
   "source": [
    "import pandas as pd\n",
    "import numpy as np\n",
    "import matplotlib.pyplot as plt\n",
    "import seaborn as sns\n",
    "%matplotlib inline\n",
    "\n",
    "import warnings\n",
    "warnings.filterwarnings(action='ignore') # 빨간색 경고메시지 무시해줌\n",
    "\n",
    "import matplotlib\n",
    "matplotlib.rc('font', family='AppleGothic') # Mac OS 한글깨짐 방지\n",
    "matplotlib.rc('axes', unicode_minus=False)\n",
    "\n",
    "from IPython.display import set_matplotlib_formats # 선명한 그래프\n",
    "set_matplotlib_formats('retina')\n",
    "\n",
    "# 데이터프레임이 짤려보이는 것을 해결해줌\n",
    "pd.options.display.max_rows=100\n",
    "pd.options.display.max_columns=100\n",
    "# pd.set_option('display.float_format','{:.4f}'.format) # 숫자포맷설정"
   ]
  },
  {
   "cell_type": "markdown",
   "id": "caf51cb1",
   "metadata": {},
   "source": [
    "### Data Load"
   ]
  },
  {
   "cell_type": "code",
   "execution_count": 25,
   "id": "abb29667",
   "metadata": {},
   "outputs": [],
   "source": [
    "bunkae = pd.read_csv('./data/jodan1_mid.csv') # 크롤링한 데이터를 넣어서 사용하세요."
   ]
  },
  {
   "cell_type": "code",
   "execution_count": 26,
   "id": "23fa93b5",
   "metadata": {},
   "outputs": [],
   "source": [
    "bunkae = bunkae.drop(bunkae.columns[0], axis=1)"
   ]
  },
  {
   "cell_type": "markdown",
   "id": "d221db35",
   "metadata": {},
   "source": [
    "### EDA"
   ]
  },
  {
   "cell_type": "code",
   "execution_count": 27,
   "id": "9e7d40e5",
   "metadata": {
    "scrolled": true
   },
   "outputs": [
    {
     "name": "stdout",
     "output_type": "stream",
     "text": [
      "<class 'pandas.core.frame.DataFrame'>\n",
      "RangeIndex: 3544 entries, 0 to 3543\n",
      "Data columns (total 41 columns):\n",
      " #   Column                  Non-Null Count  Dtype  \n",
      "---  ------                  --------------  -----  \n",
      " 0   ad                      3544 non-null   bool   \n",
      " 1   bizseller               3544 non-null   bool   \n",
      " 2   checkout                3544 non-null   bool   \n",
      " 3   contact_hope            3544 non-null   bool   \n",
      " 4   free_shipping           3544 non-null   bool   \n",
      " 5   is_adult                3544 non-null   bool   \n",
      " 6   is_super_up_shop        0 non-null      float64\n",
      " 7   location                3067 non-null   object \n",
      " 8   max_cpc                 0 non-null      float64\n",
      " 9   name                    3544 non-null   object \n",
      " 10  num_comment             3544 non-null   int64  \n",
      " 11  num_faved               3544 non-null   int64  \n",
      " 12  only_neighborhood       3544 non-null   bool   \n",
      " 13  outlink_url             0 non-null      float64\n",
      " 14  pid                     3544 non-null   int64  \n",
      " 15  price                   3544 non-null   int64  \n",
      " 16  product_image           3544 non-null   object \n",
      " 17  pu_id                   0 non-null      float64\n",
      " 18  ref_campaign            0 non-null      float64\n",
      " 19  ref_code                3544 non-null   object \n",
      " 20  ref_medium              0 non-null      float64\n",
      " 21  ref_content             0 non-null      float64\n",
      " 22  ref_source              0 non-null      float64\n",
      " 23  status                  3544 non-null   int64  \n",
      " 24  style                   0 non-null      float64\n",
      " 25  super_up                0 non-null      float64\n",
      " 26  tag                     3392 non-null   object \n",
      " 27  uid                     3544 non-null   int64  \n",
      " 28  update_time             3544 non-null   int64  \n",
      " 29  used                    3544 non-null   int64  \n",
      " 30  bun_pay_filter_enabled  3544 non-null   bool   \n",
      " 31  imp_id                  3544 non-null   object \n",
      " 32  ad_ref                  0 non-null      float64\n",
      " 33  faved                   3544 non-null   bool   \n",
      " 34  datetime                3544 non-null   object \n",
      " 35  year                    3544 non-null   int64  \n",
      " 36  month                   3544 non-null   int64  \n",
      " 37  day                     3544 non-null   int64  \n",
      " 38  week                    3544 non-null   int64  \n",
      " 39  weekday                 3544 non-null   int64  \n",
      " 40  hour                    3544 non-null   int64  \n",
      "dtypes: bool(9), float64(11), int64(14), object(7)\n",
      "memory usage: 917.3+ KB\n"
     ]
    }
   ],
   "source": [
    "bunkae.info()"
   ]
  },
  {
   "cell_type": "code",
   "execution_count": 28,
   "id": "2258f640",
   "metadata": {
    "scrolled": true
   },
   "outputs": [
    {
     "data": {
      "text/plain": [
       "Index(['ad', 'bizseller', 'checkout', 'contact_hope', 'free_shipping',\n",
       "       'is_adult', 'is_super_up_shop', 'location', 'max_cpc', 'name',\n",
       "       'num_comment', 'num_faved', 'only_neighborhood', 'outlink_url', 'pid',\n",
       "       'price', 'product_image', 'pu_id', 'ref_campaign', 'ref_code',\n",
       "       'ref_medium', 'ref_content', 'ref_source', 'status', 'style',\n",
       "       'super_up', 'tag', 'uid', 'update_time', 'used',\n",
       "       'bun_pay_filter_enabled', 'imp_id', 'ad_ref', 'faved', 'datetime',\n",
       "       'year', 'month', 'day', 'week', 'weekday', 'hour'],\n",
       "      dtype='object')"
      ]
     },
     "execution_count": 28,
     "metadata": {},
     "output_type": "execute_result"
    }
   ],
   "source": [
    "bunkae.columns"
   ]
  },
  {
   "cell_type": "code",
   "execution_count": 29,
   "id": "81244bb7",
   "metadata": {},
   "outputs": [],
   "source": [
    "columns = ['location', 'name', 'num_faved', 'pid', 'price', 'status', 'uid', 'update_time', 'used', 'datetime']"
   ]
  },
  {
   "cell_type": "code",
   "execution_count": 30,
   "id": "aef7f5a5",
   "metadata": {},
   "outputs": [],
   "source": [
    "bunkae_df = bunkae[columns]"
   ]
  },
  {
   "cell_type": "code",
   "execution_count": 31,
   "id": "f6bd12fa",
   "metadata": {},
   "outputs": [],
   "source": [
    "### 시간,분,초 삭제하고 새로운 date 컬럼 생성 \n",
    "\n",
    "def dt_index(x):\n",
    "    return str(x)[:10]"
   ]
  },
  {
   "cell_type": "code",
   "execution_count": 32,
   "id": "cd15f3a5",
   "metadata": {},
   "outputs": [
    {
     "data": {
      "text/html": [
       "<div>\n",
       "<style scoped>\n",
       "    .dataframe tbody tr th:only-of-type {\n",
       "        vertical-align: middle;\n",
       "    }\n",
       "\n",
       "    .dataframe tbody tr th {\n",
       "        vertical-align: top;\n",
       "    }\n",
       "\n",
       "    .dataframe thead th {\n",
       "        text-align: right;\n",
       "    }\n",
       "</style>\n",
       "<table border=\"1\" class=\"dataframe\">\n",
       "  <thead>\n",
       "    <tr style=\"text-align: right;\">\n",
       "      <th></th>\n",
       "      <th>location</th>\n",
       "      <th>name</th>\n",
       "      <th>num_faved</th>\n",
       "      <th>pid</th>\n",
       "      <th>price</th>\n",
       "      <th>status</th>\n",
       "      <th>uid</th>\n",
       "      <th>update_time</th>\n",
       "      <th>used</th>\n",
       "      <th>datetime</th>\n",
       "      <th>date</th>\n",
       "    </tr>\n",
       "  </thead>\n",
       "  <tbody>\n",
       "    <tr>\n",
       "      <th>0</th>\n",
       "      <td>서울특별시 관악구 신원동</td>\n",
       "      <td>(W) 나이키 조던1 미드 그레이 포그260</td>\n",
       "      <td>3</td>\n",
       "      <td>169284679</td>\n",
       "      <td>305000</td>\n",
       "      <td>0</td>\n",
       "      <td>3948290</td>\n",
       "      <td>1636618936</td>\n",
       "      <td>2</td>\n",
       "      <td>2021-11-11 17:22:16</td>\n",
       "      <td>2021-11-11</td>\n",
       "    </tr>\n",
       "    <tr>\n",
       "      <th>1</th>\n",
       "      <td>경기도 파주시 금촌2동</td>\n",
       "      <td>[280]조던 1 짐레드 미드</td>\n",
       "      <td>0</td>\n",
       "      <td>169477465</td>\n",
       "      <td>170000</td>\n",
       "      <td>0</td>\n",
       "      <td>11050524</td>\n",
       "      <td>1636618709</td>\n",
       "      <td>1</td>\n",
       "      <td>2021-11-11 17:18:29</td>\n",
       "      <td>2021-11-11</td>\n",
       "    </tr>\n",
       "    <tr>\n",
       "      <th>2</th>\n",
       "      <td>NaN</td>\n",
       "      <td>에어 조던 1 미드 SE</td>\n",
       "      <td>2</td>\n",
       "      <td>165096307</td>\n",
       "      <td>160000</td>\n",
       "      <td>0</td>\n",
       "      <td>12943051</td>\n",
       "      <td>1636618707</td>\n",
       "      <td>2</td>\n",
       "      <td>2021-11-11 17:18:27</td>\n",
       "      <td>2021-11-11</td>\n",
       "    </tr>\n",
       "  </tbody>\n",
       "</table>\n",
       "</div>"
      ],
      "text/plain": [
       "        location                      name  num_faved        pid   price  \\\n",
       "0  서울특별시 관악구 신원동  (W) 나이키 조던1 미드 그레이 포그260          3  169284679  305000   \n",
       "1   경기도 파주시 금촌2동          [280]조던 1 짐레드 미드          0  169477465  170000   \n",
       "2            NaN             에어 조던 1 미드 SE          2  165096307  160000   \n",
       "\n",
       "   status       uid  update_time  used             datetime        date  \n",
       "0       0   3948290   1636618936     2  2021-11-11 17:22:16  2021-11-11  \n",
       "1       0  11050524   1636618709     1  2021-11-11 17:18:29  2021-11-11  \n",
       "2       0  12943051   1636618707     2  2021-11-11 17:18:27  2021-11-11  "
      ]
     },
     "execution_count": 32,
     "metadata": {},
     "output_type": "execute_result"
    }
   ],
   "source": [
    "bunkae_df[\"date\"] = bunkae_df[\"datetime\"].apply(dt_index)\n",
    "bunkae_df.head(3)"
   ]
  },
  {
   "cell_type": "code",
   "execution_count": 33,
   "id": "ad126ba4",
   "metadata": {},
   "outputs": [],
   "source": [
    "bunkae_df[\"date\"] = pd.to_datetime(bunkae_df[\"date\"]) # date 컬럼 데이터타입을 datetime으로 변경 "
   ]
  },
  {
   "cell_type": "code",
   "execution_count": 34,
   "id": "3015cd4f",
   "metadata": {},
   "outputs": [
    {
     "name": "stdout",
     "output_type": "stream",
     "text": [
      "<class 'pandas.core.frame.DataFrame'>\n",
      "RangeIndex: 3544 entries, 0 to 3543\n",
      "Data columns (total 11 columns):\n",
      " #   Column       Non-Null Count  Dtype         \n",
      "---  ------       --------------  -----         \n",
      " 0   location     3067 non-null   object        \n",
      " 1   name         3544 non-null   object        \n",
      " 2   num_faved    3544 non-null   int64         \n",
      " 3   pid          3544 non-null   int64         \n",
      " 4   price        3544 non-null   int64         \n",
      " 5   status       3544 non-null   int64         \n",
      " 6   uid          3544 non-null   int64         \n",
      " 7   update_time  3544 non-null   int64         \n",
      " 8   used         3544 non-null   int64         \n",
      " 9   datetime     3544 non-null   object        \n",
      " 10  date         3544 non-null   datetime64[ns]\n",
      "dtypes: datetime64[ns](1), int64(7), object(3)\n",
      "memory usage: 304.7+ KB\n"
     ]
    }
   ],
   "source": [
    "bunkae_df.info()"
   ]
  },
  {
   "cell_type": "markdown",
   "id": "40c382e6",
   "metadata": {},
   "source": [
    "# Product Column Preprocessing"
   ]
  },
  {
   "cell_type": "markdown",
   "id": "a560e04d",
   "metadata": {},
   "source": [
    "## name 컬럼"
   ]
  },
  {
   "cell_type": "markdown",
   "id": "b4e05aec",
   "metadata": {},
   "source": [
    "- 일단 정확하게 '뉴발란스 992 그레이'라고 적어놓은 제품만 추출함.\n",
    "- 인덱스는 항상 초기화 해주어야한다."
   ]
  },
  {
   "cell_type": "code",
   "execution_count": 35,
   "id": "662c4ebf",
   "metadata": {},
   "outputs": [
    {
     "data": {
      "text/plain": [
       "29"
      ]
     },
     "execution_count": 35,
     "metadata": {},
     "output_type": "execute_result"
    }
   ],
   "source": [
    "# 시험삼아 데이터 내에서 검색해보기 (정확한 제품명으로)\n",
    "product = bunkae_df[bunkae_df['name'].str.contains(\"조던1 미드 울프 그레이\")]\n",
    "product = product.reset_index(drop=True)\n",
    "len(product)\n",
    "# 길이가 아래 키워드목록에 괜찮으면 추가한다."
   ]
  },
  {
   "cell_type": "code",
   "execution_count": 36,
   "id": "d8e66edd",
   "metadata": {},
   "outputs": [],
   "source": [
    "target_string = ['조던', '1', '미드', '울프', '그레이']\n",
    "product = bunkae_df[bunkae_df['name'].map(lambda x: all(string in x for string in target_string))]\n",
    "product = product.reset_index(drop=True)"
   ]
  },
  {
   "cell_type": "code",
   "execution_count": 37,
   "id": "902f7ebd",
   "metadata": {},
   "outputs": [
    {
     "data": {
      "text/plain": [
       "(168, 11)"
      ]
     },
     "execution_count": 37,
     "metadata": {},
     "output_type": "execute_result"
    }
   ],
   "source": [
    "product.shape"
   ]
  },
  {
   "cell_type": "markdown",
   "id": "7f5f510c",
   "metadata": {},
   "source": [
    "**제품명에서 파생하여 brand, product_name, color 가져옴.**"
   ]
  },
  {
   "cell_type": "code",
   "execution_count": 38,
   "id": "948d52b0",
   "metadata": {},
   "outputs": [],
   "source": [
    "product['product_name'] = '조던1 미드 울프그레이' # 제품명 입력."
   ]
  },
  {
   "cell_type": "code",
   "execution_count": 39,
   "id": "eac1c66a",
   "metadata": {},
   "outputs": [],
   "source": [
    "product['brand'] = '조던' # 브랜드 입력."
   ]
  },
  {
   "cell_type": "code",
   "execution_count": 40,
   "id": "2a6190bd",
   "metadata": {},
   "outputs": [],
   "source": [
    "product['product_type'] = '조던1 미드' # 제품유형"
   ]
  },
  {
   "cell_type": "code",
   "execution_count": 41,
   "id": "fa2d7ba6",
   "metadata": {},
   "outputs": [],
   "source": [
    "product['color'] = '울프그레이' # 색상 입력."
   ]
  },
  {
   "cell_type": "code",
   "execution_count": 42,
   "id": "115c5364",
   "metadata": {},
   "outputs": [
    {
     "data": {
      "text/plain": [
       "168"
      ]
     },
     "execution_count": 42,
     "metadata": {},
     "output_type": "execute_result"
    }
   ],
   "source": [
    "len(product)"
   ]
  },
  {
   "cell_type": "code",
   "execution_count": 43,
   "id": "752b0bc4",
   "metadata": {},
   "outputs": [],
   "source": [
    "# product = product[~product['name'].str.contains('삽니다')]\n",
    "# product = product[~product['name'].str.contains('구매')]"
   ]
  },
  {
   "cell_type": "code",
   "execution_count": 44,
   "id": "6be518fc",
   "metadata": {},
   "outputs": [],
   "source": [
    "# # # \"삽니다\", \"구매\" 구매요청 게시글 제거\n",
    "# idx_buying = product[product['name'].str.contains('구매')].index\n",
    "# df = product.drop(idx_buying)\n",
    "# product = df"
   ]
  },
  {
   "cell_type": "code",
   "execution_count": 45,
   "id": "b871b845",
   "metadata": {},
   "outputs": [
    {
     "data": {
      "text/plain": [
       "168"
      ]
     },
     "execution_count": 45,
     "metadata": {},
     "output_type": "execute_result"
    }
   ],
   "source": [
    "len(product)"
   ]
  },
  {
   "cell_type": "markdown",
   "id": "e036594e",
   "metadata": {},
   "source": [
    "#### size 처리\n",
    "- name컬럼에서 숫자만 뽑아낸뒤, 992숫자를 지운다.\n",
    "- 이상한값들이 많아서 이는 나중에 없애줘야한다.\n",
    "- 숫자로 변환해서 150~350 사이숫자만 냅두고, 나머지는 Null값으로 둔다."
   ]
  },
  {
   "cell_type": "code",
   "execution_count": 46,
   "id": "173bac1b",
   "metadata": {
    "scrolled": true
   },
   "outputs": [],
   "source": [
    "import re\n",
    "# name에서 숫자만 추출\n",
    "number = []\n",
    "for i in range(0, len(product)):\n",
    "    number.append(re.sub(r'[^0-9]','',product['name'].values[i]))\n",
    "product[\"size\"] = pd.DataFrame(number)"
   ]
  },
  {
   "cell_type": "code",
   "execution_count": 47,
   "id": "1c453dbc",
   "metadata": {},
   "outputs": [
    {
     "data": {
      "text/html": [
       "<div>\n",
       "<style scoped>\n",
       "    .dataframe tbody tr th:only-of-type {\n",
       "        vertical-align: middle;\n",
       "    }\n",
       "\n",
       "    .dataframe tbody tr th {\n",
       "        vertical-align: top;\n",
       "    }\n",
       "\n",
       "    .dataframe thead th {\n",
       "        text-align: right;\n",
       "    }\n",
       "</style>\n",
       "<table border=\"1\" class=\"dataframe\">\n",
       "  <thead>\n",
       "    <tr style=\"text-align: right;\">\n",
       "      <th></th>\n",
       "      <th>location</th>\n",
       "      <th>name</th>\n",
       "      <th>num_faved</th>\n",
       "      <th>pid</th>\n",
       "      <th>price</th>\n",
       "      <th>status</th>\n",
       "      <th>uid</th>\n",
       "      <th>update_time</th>\n",
       "      <th>used</th>\n",
       "      <th>datetime</th>\n",
       "      <th>date</th>\n",
       "      <th>product_name</th>\n",
       "      <th>brand</th>\n",
       "      <th>product_type</th>\n",
       "      <th>color</th>\n",
       "      <th>size</th>\n",
       "    </tr>\n",
       "  </thead>\n",
       "  <tbody>\n",
       "    <tr>\n",
       "      <th>0</th>\n",
       "      <td>부산광역시 남구 용호제1동</td>\n",
       "      <td>조던 1 미드 울프 그레이</td>\n",
       "      <td>0</td>\n",
       "      <td>169604081</td>\n",
       "      <td>310000</td>\n",
       "      <td>0</td>\n",
       "      <td>4747481</td>\n",
       "      <td>1636613395</td>\n",
       "      <td>1</td>\n",
       "      <td>2021-11-11 15:49:55</td>\n",
       "      <td>2021-11-11</td>\n",
       "      <td>조던1 미드 울프그레이</td>\n",
       "      <td>조던</td>\n",
       "      <td>조던1 미드</td>\n",
       "      <td>울프그레이</td>\n",
       "      <td>1</td>\n",
       "    </tr>\n",
       "    <tr>\n",
       "      <th>1</th>\n",
       "      <td>서울특별시 서대문구 충현동</td>\n",
       "      <td>[w290]조던1 미드 울프그레이</td>\n",
       "      <td>1</td>\n",
       "      <td>169370834</td>\n",
       "      <td>295000</td>\n",
       "      <td>0</td>\n",
       "      <td>76764290</td>\n",
       "      <td>1636609867</td>\n",
       "      <td>1</td>\n",
       "      <td>2021-11-11 14:51:07</td>\n",
       "      <td>2021-11-11</td>\n",
       "      <td>조던1 미드 울프그레이</td>\n",
       "      <td>조던</td>\n",
       "      <td>조던1 미드</td>\n",
       "      <td>울프그레이</td>\n",
       "      <td>2901</td>\n",
       "    </tr>\n",
       "    <tr>\n",
       "      <th>2</th>\n",
       "      <td>NaN</td>\n",
       "      <td>조던1 미드 울프그레이 280</td>\n",
       "      <td>6</td>\n",
       "      <td>168939660</td>\n",
       "      <td>270000</td>\n",
       "      <td>0</td>\n",
       "      <td>77678438</td>\n",
       "      <td>1636604048</td>\n",
       "      <td>1</td>\n",
       "      <td>2021-11-11 13:14:08</td>\n",
       "      <td>2021-11-11</td>\n",
       "      <td>조던1 미드 울프그레이</td>\n",
       "      <td>조던</td>\n",
       "      <td>조던1 미드</td>\n",
       "      <td>울프그레이</td>\n",
       "      <td>1280</td>\n",
       "    </tr>\n",
       "    <tr>\n",
       "      <th>3</th>\n",
       "      <td>서울특별시 광진구 능동</td>\n",
       "      <td>W에어조던 1 미드 울프그레이 235사이즈</td>\n",
       "      <td>8</td>\n",
       "      <td>160207153</td>\n",
       "      <td>350000</td>\n",
       "      <td>0</td>\n",
       "      <td>9501687</td>\n",
       "      <td>1636601704</td>\n",
       "      <td>2</td>\n",
       "      <td>2021-11-11 12:35:04</td>\n",
       "      <td>2021-11-11</td>\n",
       "      <td>조던1 미드 울프그레이</td>\n",
       "      <td>조던</td>\n",
       "      <td>조던1 미드</td>\n",
       "      <td>울프그레이</td>\n",
       "      <td>1235</td>\n",
       "    </tr>\n",
       "    <tr>\n",
       "      <th>4</th>\n",
       "      <td>서울특별시 영등포구 여의동</td>\n",
       "      <td>조던1 미드 울프그레이 290</td>\n",
       "      <td>16</td>\n",
       "      <td>163620290</td>\n",
       "      <td>349000</td>\n",
       "      <td>0</td>\n",
       "      <td>12040324</td>\n",
       "      <td>1636601268</td>\n",
       "      <td>2</td>\n",
       "      <td>2021-11-11 12:27:48</td>\n",
       "      <td>2021-11-11</td>\n",
       "      <td>조던1 미드 울프그레이</td>\n",
       "      <td>조던</td>\n",
       "      <td>조던1 미드</td>\n",
       "      <td>울프그레이</td>\n",
       "      <td>1290</td>\n",
       "    </tr>\n",
       "    <tr>\n",
       "      <th>...</th>\n",
       "      <td>...</td>\n",
       "      <td>...</td>\n",
       "      <td>...</td>\n",
       "      <td>...</td>\n",
       "      <td>...</td>\n",
       "      <td>...</td>\n",
       "      <td>...</td>\n",
       "      <td>...</td>\n",
       "      <td>...</td>\n",
       "      <td>...</td>\n",
       "      <td>...</td>\n",
       "      <td>...</td>\n",
       "      <td>...</td>\n",
       "      <td>...</td>\n",
       "      <td>...</td>\n",
       "      <td>...</td>\n",
       "    </tr>\n",
       "    <tr>\n",
       "      <th>163</th>\n",
       "      <td>경기도 안산시 단원구 신길동</td>\n",
       "      <td>조던1 미드 울프그레이 235</td>\n",
       "      <td>9</td>\n",
       "      <td>161826958</td>\n",
       "      <td>200000</td>\n",
       "      <td>3</td>\n",
       "      <td>8710268</td>\n",
       "      <td>1629377598</td>\n",
       "      <td>1</td>\n",
       "      <td>2021-08-19 21:53:18</td>\n",
       "      <td>2021-08-19</td>\n",
       "      <td>조던1 미드 울프그레이</td>\n",
       "      <td>조던</td>\n",
       "      <td>조던1 미드</td>\n",
       "      <td>울프그레이</td>\n",
       "      <td>1235</td>\n",
       "    </tr>\n",
       "    <tr>\n",
       "      <th>164</th>\n",
       "      <td>서울특별시 은평구 진관동</td>\n",
       "      <td>[235] 조던 1 미드 울프 그레이</td>\n",
       "      <td>2</td>\n",
       "      <td>162035548</td>\n",
       "      <td>250000</td>\n",
       "      <td>3</td>\n",
       "      <td>11608043</td>\n",
       "      <td>1629210095</td>\n",
       "      <td>2</td>\n",
       "      <td>2021-08-17 23:21:35</td>\n",
       "      <td>2021-08-17</td>\n",
       "      <td>조던1 미드 울프그레이</td>\n",
       "      <td>조던</td>\n",
       "      <td>조던1 미드</td>\n",
       "      <td>울프그레이</td>\n",
       "      <td>2351</td>\n",
       "    </tr>\n",
       "    <tr>\n",
       "      <th>165</th>\n",
       "      <td>NaN</td>\n",
       "      <td>[W255]조던1 미드 울프그레이</td>\n",
       "      <td>3</td>\n",
       "      <td>161752895</td>\n",
       "      <td>220000</td>\n",
       "      <td>3</td>\n",
       "      <td>74970291</td>\n",
       "      <td>1629114264</td>\n",
       "      <td>2</td>\n",
       "      <td>2021-08-16 20:44:24</td>\n",
       "      <td>2021-08-16</td>\n",
       "      <td>조던1 미드 울프그레이</td>\n",
       "      <td>조던</td>\n",
       "      <td>조던1 미드</td>\n",
       "      <td>울프그레이</td>\n",
       "      <td>2551</td>\n",
       "    </tr>\n",
       "    <tr>\n",
       "      <th>166</th>\n",
       "      <td>경기도 고양시 일산서구 일산3동</td>\n",
       "      <td>조던 1 미드 울프 그레이 11W (280)</td>\n",
       "      <td>2</td>\n",
       "      <td>161860550</td>\n",
       "      <td>235000</td>\n",
       "      <td>3</td>\n",
       "      <td>77226746</td>\n",
       "      <td>1629037422</td>\n",
       "      <td>2</td>\n",
       "      <td>2021-08-15 23:23:42</td>\n",
       "      <td>2021-08-15</td>\n",
       "      <td>조던1 미드 울프그레이</td>\n",
       "      <td>조던</td>\n",
       "      <td>조던1 미드</td>\n",
       "      <td>울프그레이</td>\n",
       "      <td>111280</td>\n",
       "    </tr>\n",
       "    <tr>\n",
       "      <th>167</th>\n",
       "      <td>서울특별시 영등포구 당산제1동</td>\n",
       "      <td>[W240] 조던 1 미드 울프 그레이</td>\n",
       "      <td>3</td>\n",
       "      <td>161747129</td>\n",
       "      <td>200000</td>\n",
       "      <td>3</td>\n",
       "      <td>3432494</td>\n",
       "      <td>1628923079</td>\n",
       "      <td>2</td>\n",
       "      <td>2021-08-14 15:37:59</td>\n",
       "      <td>2021-08-14</td>\n",
       "      <td>조던1 미드 울프그레이</td>\n",
       "      <td>조던</td>\n",
       "      <td>조던1 미드</td>\n",
       "      <td>울프그레이</td>\n",
       "      <td>2401</td>\n",
       "    </tr>\n",
       "  </tbody>\n",
       "</table>\n",
       "<p>168 rows × 16 columns</p>\n",
       "</div>"
      ],
      "text/plain": [
       "              location                      name  num_faved        pid  \\\n",
       "0       부산광역시 남구 용호제1동            조던 1 미드 울프 그레이          0  169604081   \n",
       "1       서울특별시 서대문구 충현동        [w290]조던1 미드 울프그레이          1  169370834   \n",
       "2                  NaN          조던1 미드 울프그레이 280          6  168939660   \n",
       "3         서울특별시 광진구 능동   W에어조던 1 미드 울프그레이 235사이즈          8  160207153   \n",
       "4       서울특별시 영등포구 여의동          조던1 미드 울프그레이 290         16  163620290   \n",
       "..                 ...                       ...        ...        ...   \n",
       "163    경기도 안산시 단원구 신길동          조던1 미드 울프그레이 235          9  161826958   \n",
       "164      서울특별시 은평구 진관동      [235] 조던 1 미드 울프 그레이          2  162035548   \n",
       "165                NaN        [W255]조던1 미드 울프그레이          3  161752895   \n",
       "166  경기도 고양시 일산서구 일산3동  조던 1 미드 울프 그레이 11W (280)          2  161860550   \n",
       "167   서울특별시 영등포구 당산제1동     [W240] 조던 1 미드 울프 그레이          3  161747129   \n",
       "\n",
       "      price  status       uid  update_time  used             datetime  \\\n",
       "0    310000       0   4747481   1636613395     1  2021-11-11 15:49:55   \n",
       "1    295000       0  76764290   1636609867     1  2021-11-11 14:51:07   \n",
       "2    270000       0  77678438   1636604048     1  2021-11-11 13:14:08   \n",
       "3    350000       0   9501687   1636601704     2  2021-11-11 12:35:04   \n",
       "4    349000       0  12040324   1636601268     2  2021-11-11 12:27:48   \n",
       "..      ...     ...       ...          ...   ...                  ...   \n",
       "163  200000       3   8710268   1629377598     1  2021-08-19 21:53:18   \n",
       "164  250000       3  11608043   1629210095     2  2021-08-17 23:21:35   \n",
       "165  220000       3  74970291   1629114264     2  2021-08-16 20:44:24   \n",
       "166  235000       3  77226746   1629037422     2  2021-08-15 23:23:42   \n",
       "167  200000       3   3432494   1628923079     2  2021-08-14 15:37:59   \n",
       "\n",
       "          date  product_name brand product_type  color    size  \n",
       "0   2021-11-11  조던1 미드 울프그레이    조던       조던1 미드  울프그레이       1  \n",
       "1   2021-11-11  조던1 미드 울프그레이    조던       조던1 미드  울프그레이    2901  \n",
       "2   2021-11-11  조던1 미드 울프그레이    조던       조던1 미드  울프그레이    1280  \n",
       "3   2021-11-11  조던1 미드 울프그레이    조던       조던1 미드  울프그레이    1235  \n",
       "4   2021-11-11  조던1 미드 울프그레이    조던       조던1 미드  울프그레이    1290  \n",
       "..         ...           ...   ...          ...    ...     ...  \n",
       "163 2021-08-19  조던1 미드 울프그레이    조던       조던1 미드  울프그레이    1235  \n",
       "164 2021-08-17  조던1 미드 울프그레이    조던       조던1 미드  울프그레이    2351  \n",
       "165 2021-08-16  조던1 미드 울프그레이    조던       조던1 미드  울프그레이    2551  \n",
       "166 2021-08-15  조던1 미드 울프그레이    조던       조던1 미드  울프그레이  111280  \n",
       "167 2021-08-14  조던1 미드 울프그레이    조던       조던1 미드  울프그레이    2401  \n",
       "\n",
       "[168 rows x 16 columns]"
      ]
     },
     "execution_count": 47,
     "metadata": {},
     "output_type": "execute_result"
    }
   ],
   "source": [
    "product"
   ]
  },
  {
   "cell_type": "code",
   "execution_count": 48,
   "id": "ad15a7be",
   "metadata": {},
   "outputs": [],
   "source": [
    "# 에어조던1의 1을 없애기\n",
    "def strip_one(x):\n",
    "    return x.strip('1')"
   ]
  },
  {
   "cell_type": "code",
   "execution_count": 49,
   "id": "1c0eb239",
   "metadata": {
    "scrolled": true
   },
   "outputs": [],
   "source": [
    "# product['size'] = product['size'].replace('','0') #string\n",
    "product['size'] = product['size'].apply(strip_one)"
   ]
  },
  {
   "cell_type": "code",
   "execution_count": 50,
   "id": "79032c97",
   "metadata": {},
   "outputs": [
    {
     "data": {
      "text/plain": [
       "{'',\n",
       " '225',\n",
       " '230',\n",
       " '2301230',\n",
       " '230235',\n",
       " '230235245250',\n",
       " '230235250275',\n",
       " '230240',\n",
       " '230245',\n",
       " '235',\n",
       " '235245',\n",
       " '235250',\n",
       " '240',\n",
       " '240245255270',\n",
       " '2406',\n",
       " '2406472105',\n",
       " '245',\n",
       " '245240',\n",
       " '2456472105',\n",
       " '250',\n",
       " '250260275',\n",
       " '255',\n",
       " '255260265270275280',\n",
       " '260',\n",
       " '260265',\n",
       " '265',\n",
       " '2652016',\n",
       " '270',\n",
       " '275',\n",
       " '280',\n",
       " '285',\n",
       " '290',\n",
       " '6472105'}"
      ]
     },
     "execution_count": 50,
     "metadata": {},
     "output_type": "execute_result"
    }
   ],
   "source": [
    "set(product['size'])"
   ]
  },
  {
   "cell_type": "code",
   "execution_count": 51,
   "id": "79bf0fd2",
   "metadata": {},
   "outputs": [],
   "source": [
    "# 1단계\n",
    "def size (x):\n",
    "    return x[0:3]"
   ]
  },
  {
   "cell_type": "code",
   "execution_count": 52,
   "id": "ac35e227",
   "metadata": {},
   "outputs": [],
   "source": [
    "product['size'] = product['size'].apply(size)"
   ]
  },
  {
   "cell_type": "code",
   "execution_count": 53,
   "id": "7f7658bf",
   "metadata": {},
   "outputs": [],
   "source": [
    "# # 2단계\n",
    "# int 변환 후 150 ~ 350 사이값\n",
    "product['size'] = product['size'].replace('','0') #string\n",
    "product['size'] = product['size'].astype(int)\n",
    "product = product[(product['size'] >= 200) & (product['size'] <= 350)]"
   ]
  },
  {
   "cell_type": "code",
   "execution_count": 54,
   "id": "599fa38f",
   "metadata": {},
   "outputs": [],
   "source": [
    "# 3단계\n",
    "# 뒷자리 5로 나누어 떨어지도록함. (사이즈는 5단위이기 때문)\n",
    "product = product[product['size'] % 5 == 0]"
   ]
  },
  {
   "cell_type": "code",
   "execution_count": 55,
   "id": "3782e25a",
   "metadata": {},
   "outputs": [
    {
     "data": {
      "text/plain": [
       "{225, 230, 235, 240, 245, 250, 255, 260, 265, 270, 275, 280, 285, 290}"
      ]
     },
     "execution_count": 55,
     "metadata": {},
     "output_type": "execute_result"
    }
   ],
   "source": [
    "set(product['size'])"
   ]
  },
  {
   "cell_type": "code",
   "execution_count": 56,
   "id": "02c457c1",
   "metadata": {
    "scrolled": true
   },
   "outputs": [
    {
     "name": "stdout",
     "output_type": "stream",
     "text": [
      "(153, 16)\n"
     ]
    },
    {
     "data": {
      "text/html": [
       "<div>\n",
       "<style scoped>\n",
       "    .dataframe tbody tr th:only-of-type {\n",
       "        vertical-align: middle;\n",
       "    }\n",
       "\n",
       "    .dataframe tbody tr th {\n",
       "        vertical-align: top;\n",
       "    }\n",
       "\n",
       "    .dataframe thead th {\n",
       "        text-align: right;\n",
       "    }\n",
       "</style>\n",
       "<table border=\"1\" class=\"dataframe\">\n",
       "  <thead>\n",
       "    <tr style=\"text-align: right;\">\n",
       "      <th></th>\n",
       "      <th>location</th>\n",
       "      <th>name</th>\n",
       "      <th>num_faved</th>\n",
       "      <th>pid</th>\n",
       "      <th>price</th>\n",
       "      <th>status</th>\n",
       "      <th>uid</th>\n",
       "      <th>update_time</th>\n",
       "      <th>used</th>\n",
       "      <th>datetime</th>\n",
       "      <th>date</th>\n",
       "      <th>product_name</th>\n",
       "      <th>brand</th>\n",
       "      <th>product_type</th>\n",
       "      <th>color</th>\n",
       "      <th>size</th>\n",
       "    </tr>\n",
       "  </thead>\n",
       "  <tbody>\n",
       "    <tr>\n",
       "      <th>1</th>\n",
       "      <td>서울특별시 서대문구 충현동</td>\n",
       "      <td>[w290]조던1 미드 울프그레이</td>\n",
       "      <td>1</td>\n",
       "      <td>169370834</td>\n",
       "      <td>295000</td>\n",
       "      <td>0</td>\n",
       "      <td>76764290</td>\n",
       "      <td>1636609867</td>\n",
       "      <td>1</td>\n",
       "      <td>2021-11-11 14:51:07</td>\n",
       "      <td>2021-11-11</td>\n",
       "      <td>조던1 미드 울프그레이</td>\n",
       "      <td>조던</td>\n",
       "      <td>조던1 미드</td>\n",
       "      <td>울프그레이</td>\n",
       "      <td>290</td>\n",
       "    </tr>\n",
       "  </tbody>\n",
       "</table>\n",
       "</div>"
      ],
      "text/plain": [
       "         location                name  num_faved        pid   price  status  \\\n",
       "1  서울특별시 서대문구 충현동  [w290]조던1 미드 울프그레이          1  169370834  295000       0   \n",
       "\n",
       "        uid  update_time  used             datetime       date  product_name  \\\n",
       "1  76764290   1636609867     1  2021-11-11 14:51:07 2021-11-11  조던1 미드 울프그레이   \n",
       "\n",
       "  brand product_type  color  size  \n",
       "1    조던       조던1 미드  울프그레이   290  "
      ]
     },
     "execution_count": 56,
     "metadata": {},
     "output_type": "execute_result"
    }
   ],
   "source": [
    "print(product.shape)\n",
    "product.head(1)"
   ]
  },
  {
   "cell_type": "markdown",
   "id": "0dbe25dd",
   "metadata": {},
   "source": [
    "## price 컬럼\n",
    "- 정발가 : 199,000원\n",
    "<!-- - 나이키 조던1 하이 하이퍼로얄 크림 거래 범위 기준 : 100,000 이상 600,000 이하 -->\n",
    "- 이상한 값들 제거해야함"
   ]
  },
  {
   "cell_type": "code",
   "execution_count": 57,
   "id": "50996ae2",
   "metadata": {},
   "outputs": [
    {
     "data": {
      "text/plain": [
       "{1234,\n",
       " 2345,\n",
       " 10000,\n",
       " 11111,\n",
       " 12345,\n",
       " 20000,\n",
       " 55000,\n",
       " 100000,\n",
       " 160000,\n",
       " 170000,\n",
       " 179000,\n",
       " 180000,\n",
       " 190000,\n",
       " 200000,\n",
       " 219000,\n",
       " 220000,\n",
       " 225000,\n",
       " 230000,\n",
       " 235000,\n",
       " 239000,\n",
       " 240000,\n",
       " 245000,\n",
       " 248000,\n",
       " 250000,\n",
       " 255000,\n",
       " 259000,\n",
       " 260000,\n",
       " 269000,\n",
       " 270000,\n",
       " 272000,\n",
       " 275000,\n",
       " 278000,\n",
       " 279000,\n",
       " 280000,\n",
       " 281000,\n",
       " 285000,\n",
       " 288000,\n",
       " 289000,\n",
       " 290000,\n",
       " 291000,\n",
       " 295000,\n",
       " 298000,\n",
       " 299000,\n",
       " 300000,\n",
       " 309000,\n",
       " 310000,\n",
       " 320000,\n",
       " 329000,\n",
       " 339000,\n",
       " 340000,\n",
       " 349000,\n",
       " 350000,\n",
       " 360000,\n",
       " 370000,\n",
       " 379000,\n",
       " 389000,\n",
       " 399000,\n",
       " 400000,\n",
       " 560000}"
      ]
     },
     "execution_count": 57,
     "metadata": {},
     "output_type": "execute_result"
    }
   ],
   "source": [
    "set(product['price'])"
   ]
  },
  {
   "cell_type": "code",
   "execution_count": 58,
   "id": "b94bdc6e",
   "metadata": {},
   "outputs": [],
   "source": [
    "# product = product[(product['price'] >= 50000) & (product['price'] <= 600000)] # 시중가격 범위 입력"
   ]
  },
  {
   "cell_type": "code",
   "execution_count": 59,
   "id": "6e7b2ded",
   "metadata": {},
   "outputs": [],
   "source": [
    "product['release_price'] = 199000 # 정발가입력"
   ]
  },
  {
   "cell_type": "code",
   "execution_count": 60,
   "id": "e1f8f772",
   "metadata": {},
   "outputs": [
    {
     "data": {
      "text/html": [
       "<div>\n",
       "<style scoped>\n",
       "    .dataframe tbody tr th:only-of-type {\n",
       "        vertical-align: middle;\n",
       "    }\n",
       "\n",
       "    .dataframe tbody tr th {\n",
       "        vertical-align: top;\n",
       "    }\n",
       "\n",
       "    .dataframe thead th {\n",
       "        text-align: right;\n",
       "    }\n",
       "</style>\n",
       "<table border=\"1\" class=\"dataframe\">\n",
       "  <thead>\n",
       "    <tr style=\"text-align: right;\">\n",
       "      <th></th>\n",
       "      <th>location</th>\n",
       "      <th>name</th>\n",
       "      <th>num_faved</th>\n",
       "      <th>pid</th>\n",
       "      <th>price</th>\n",
       "      <th>status</th>\n",
       "      <th>uid</th>\n",
       "      <th>update_time</th>\n",
       "      <th>used</th>\n",
       "      <th>datetime</th>\n",
       "      <th>date</th>\n",
       "      <th>product_name</th>\n",
       "      <th>brand</th>\n",
       "      <th>product_type</th>\n",
       "      <th>color</th>\n",
       "      <th>size</th>\n",
       "      <th>release_price</th>\n",
       "    </tr>\n",
       "  </thead>\n",
       "  <tbody>\n",
       "    <tr>\n",
       "      <th>1</th>\n",
       "      <td>서울특별시 서대문구 충현동</td>\n",
       "      <td>[w290]조던1 미드 울프그레이</td>\n",
       "      <td>1</td>\n",
       "      <td>169370834</td>\n",
       "      <td>295000</td>\n",
       "      <td>0</td>\n",
       "      <td>76764290</td>\n",
       "      <td>1636609867</td>\n",
       "      <td>1</td>\n",
       "      <td>2021-11-11 14:51:07</td>\n",
       "      <td>2021-11-11</td>\n",
       "      <td>조던1 미드 울프그레이</td>\n",
       "      <td>조던</td>\n",
       "      <td>조던1 미드</td>\n",
       "      <td>울프그레이</td>\n",
       "      <td>290</td>\n",
       "      <td>199000</td>\n",
       "    </tr>\n",
       "  </tbody>\n",
       "</table>\n",
       "</div>"
      ],
      "text/plain": [
       "         location                name  num_faved        pid   price  status  \\\n",
       "1  서울특별시 서대문구 충현동  [w290]조던1 미드 울프그레이          1  169370834  295000       0   \n",
       "\n",
       "        uid  update_time  used             datetime       date  product_name  \\\n",
       "1  76764290   1636609867     1  2021-11-11 14:51:07 2021-11-11  조던1 미드 울프그레이   \n",
       "\n",
       "  brand product_type  color  size  release_price  \n",
       "1    조던       조던1 미드  울프그레이   290         199000  "
      ]
     },
     "execution_count": 60,
     "metadata": {},
     "output_type": "execute_result"
    }
   ],
   "source": [
    "product.head(1)"
   ]
  },
  {
   "cell_type": "markdown",
   "id": "c692a6e8",
   "metadata": {},
   "source": [
    "## location 컬럼\n",
    "- 시/도/구 등 컬럼을 나눠주려고 한다."
   ]
  },
  {
   "cell_type": "code",
   "execution_count": 61,
   "id": "ff288361",
   "metadata": {
    "scrolled": true
   },
   "outputs": [
    {
     "data": {
      "text/plain": [
       "1    서울특별시 서대문구 충현동\n",
       "2               NaN\n",
       "3      서울특별시 광진구 능동\n",
       "4    서울특별시 영등포구 여의동\n",
       "5       경기도 시흥시 연성동\n",
       "Name: location, dtype: object"
      ]
     },
     "execution_count": 61,
     "metadata": {},
     "output_type": "execute_result"
    }
   ],
   "source": [
    "product['location'].head()"
   ]
  },
  {
   "cell_type": "code",
   "execution_count": 62,
   "id": "b4c9e064",
   "metadata": {
    "scrolled": true
   },
   "outputs": [
    {
     "data": {
      "text/plain": [
       "{nan,\n",
       " '경기도 고양시 일산동구 백석1동',\n",
       " '경기도 고양시 일산동구 중산동',\n",
       " '경기도 고양시 일산서구 일산2동',\n",
       " '경기도 고양시 일산서구 일산3동',\n",
       " '경기도 광명시 소하2동',\n",
       " '경기도 광주시 경안동',\n",
       " '경기도 광주시 광남동',\n",
       " '경기도 군포시 금정동',\n",
       " '경기도 남양주시 다산1동',\n",
       " '경기도 남양주시 다산2동',\n",
       " '경기도 남양주시 오남읍',\n",
       " '경기도 남양주시 화도읍',\n",
       " '경기도 부천시 역곡1동',\n",
       " '경기도 부천시 오정동',\n",
       " '경기도 부천시 중동',\n",
       " '경기도 성남시 분당구 구미동',\n",
       " '경기도 성남시 분당구 정자1동',\n",
       " '경기도 성남시 수정구 태평1동',\n",
       " '경기도 성남시 수정구 태평3동',\n",
       " '경기도 성남시 중원구 하대원동',\n",
       " '경기도 수원시 권선구 권선1동',\n",
       " '경기도 시흥시 연성동',\n",
       " '경기도 안산시 단원구 고잔동',\n",
       " '경기도 안산시 단원구 신길동',\n",
       " '경기도 안산시 상록구 사동',\n",
       " '경기도 안산시 상록구 해양동',\n",
       " '경기도 안양시 동안구 귀인동',\n",
       " '경기도 안양시 동안구 평촌동',\n",
       " '경기도 안양시 만안구 석수3동',\n",
       " '경기도 양주시 회천3동',\n",
       " '경기도 의정부시 송산2동',\n",
       " '경기도 평택시 원평동',\n",
       " '경기도 포천시 포천동',\n",
       " '경상남도 거제시 고현동',\n",
       " '경상남도 거제시 연초면',\n",
       " '경상남도 산청군 신안면',\n",
       " '경상북도 경산시 동부동',\n",
       " '경상북도 칠곡군 북삼읍',\n",
       " '광주광역시 남구 봉선2동',\n",
       " '대구광역시 동구 방촌동',\n",
       " '대전광역시 유성구 관평동',\n",
       " '대전광역시 유성구 노은1동',\n",
       " '부산광역시 금정구 장전제3동',\n",
       " '부산광역시 동래구 수민동',\n",
       " '부산광역시 부산진구 당감제4동',\n",
       " '부산광역시 북구 만덕제2동',\n",
       " '부산광역시 수영구 광안제2동',\n",
       " '부산광역시 수영구 남천제2동',\n",
       " '부산광역시 해운대구 우제2동',\n",
       " '부산광역시 해운대구 재송제1동',\n",
       " '부산광역시 해운대구 좌제4동',\n",
       " '서울특별시 강남구 대치2동',\n",
       " '서울특별시 강남구 신사동',\n",
       " '서울특별시 강남구 압구정동',\n",
       " '서울특별시 강남구 청담동',\n",
       " '서울특별시 강북구 수유제2동',\n",
       " '서울특별시 강서구 가양제3동',\n",
       " '서울특별시 강서구 등촌제1동',\n",
       " '서울특별시 강서구 화곡제1동',\n",
       " '서울특별시 강서구 화곡제2동',\n",
       " '서울특별시 관악구 낙성대동',\n",
       " '서울특별시 관악구 남현동',\n",
       " '서울특별시 광진구 광장동',\n",
       " '서울특별시 광진구 능동',\n",
       " '서울특별시 광진구 자양제1동',\n",
       " '서울특별시 구로구 구로제3동',\n",
       " '서울특별시 구로구 구로제5동',\n",
       " '서울특별시 노원구 상계10동',\n",
       " '서울특별시 노원구 중계2.3동',\n",
       " '서울특별시 노원구 하계1동',\n",
       " '서울특별시 도봉구 도봉제2동',\n",
       " '서울특별시 동대문구 답십리제2동',\n",
       " '서울특별시 동대문구 장안제2동',\n",
       " '서울특별시 동대문구 제기동',\n",
       " '서울특별시 동작구 노량진제1동',\n",
       " '서울특별시 동작구 신대방제1동',\n",
       " '서울특별시 마포구 서교동',\n",
       " '서울특별시 마포구 연남동',\n",
       " '서울특별시 서대문구 남가좌제1동',\n",
       " '서울특별시 서대문구 연희동',\n",
       " '서울특별시 서대문구 충현동',\n",
       " '서울특별시 서초구 반포본동',\n",
       " '서울특별시 서초구 서초1동',\n",
       " '서울특별시 성동구 행당제2동',\n",
       " '서울특별시 성북구 장위제1동',\n",
       " '서울특별시 성북구 정릉제2동',\n",
       " '서울특별시 송파구 문정2동',\n",
       " '서울특별시 송파구 잠실본동',\n",
       " '서울특별시 송파구 풍납2동',\n",
       " '서울특별시 양천구 목1동',\n",
       " '서울특별시 영등포구 당산제1동',\n",
       " '서울특별시 영등포구 대림제3동',\n",
       " '서울특별시 영등포구 여의동',\n",
       " '서울특별시 용산구 원효로제1동',\n",
       " '서울특별시 용산구 이촌제1동',\n",
       " '서울특별시 용산구 후암동',\n",
       " '서울특별시 은평구 신사제1동',\n",
       " '서울특별시 은평구 진관동',\n",
       " '서울특별시 종로구 숭인제2동',\n",
       " '서울특별시 중구 동화동',\n",
       " '세종특별자치시  보람동',\n",
       " '세종특별자치시  새롬동',\n",
       " '울산광역시 북구 농소2동',\n",
       " '인천광역시 계양구 계산2동',\n",
       " '인천광역시 남구 문학동',\n",
       " '인천광역시 남구 용현5동',\n",
       " '인천광역시 서구 검단1동',\n",
       " '인천광역시 연수구 선학동',\n",
       " '인천광역시 중구 신흥동',\n",
       " '전라남도 순천시 왕조2동',\n",
       " '전라북도 익산시 모현동',\n",
       " '전라북도 전주시 완산구 중화산2동',\n",
       " '충청남도 당진시 당진1동',\n",
       " '충청남도 아산시 배방읍'}"
      ]
     },
     "execution_count": 62,
     "metadata": {},
     "output_type": "execute_result"
    }
   ],
   "source": [
    "set(product['location']) # nan존재"
   ]
  },
  {
   "cell_type": "code",
   "execution_count": 63,
   "id": "233eb9e1",
   "metadata": {},
   "outputs": [],
   "source": [
    "product['location'] = product['location'].fillna('NULL')"
   ]
  },
  {
   "cell_type": "code",
   "execution_count": 64,
   "id": "46fc4a98",
   "metadata": {},
   "outputs": [],
   "source": [
    "def first_split(x):\n",
    "    first = x.find(' ')\n",
    "    return x[:first]\n",
    "\n",
    "def second_split(x):\n",
    "    first = x.find(' ')\n",
    "    second = x.find(' ', first+1)\n",
    "    return x[first+1:second]\n",
    "\n",
    "def third_split(x):\n",
    "    first = x.find(' ')\n",
    "    second = x.find(' ', first+1)\n",
    "    third = x.find(' ', second+1)\n",
    "    return x[second+1:]"
   ]
  },
  {
   "cell_type": "code",
   "execution_count": 65,
   "id": "8f8b7cc9",
   "metadata": {},
   "outputs": [],
   "source": [
    "product['location1'] = product['location'].apply(first_split)\n",
    "product['location2'] = product['location'].apply(second_split)\n",
    "product['location3'] = product['location'].apply(third_split)"
   ]
  },
  {
   "cell_type": "code",
   "execution_count": 66,
   "id": "3288f8c7",
   "metadata": {
    "scrolled": true
   },
   "outputs": [
    {
     "data": {
      "text/html": [
       "<div>\n",
       "<style scoped>\n",
       "    .dataframe tbody tr th:only-of-type {\n",
       "        vertical-align: middle;\n",
       "    }\n",
       "\n",
       "    .dataframe tbody tr th {\n",
       "        vertical-align: top;\n",
       "    }\n",
       "\n",
       "    .dataframe thead th {\n",
       "        text-align: right;\n",
       "    }\n",
       "</style>\n",
       "<table border=\"1\" class=\"dataframe\">\n",
       "  <thead>\n",
       "    <tr style=\"text-align: right;\">\n",
       "      <th></th>\n",
       "      <th>location</th>\n",
       "      <th>name</th>\n",
       "      <th>num_faved</th>\n",
       "      <th>pid</th>\n",
       "      <th>price</th>\n",
       "      <th>status</th>\n",
       "      <th>uid</th>\n",
       "      <th>update_time</th>\n",
       "      <th>used</th>\n",
       "      <th>datetime</th>\n",
       "      <th>date</th>\n",
       "      <th>product_name</th>\n",
       "      <th>brand</th>\n",
       "      <th>product_type</th>\n",
       "      <th>color</th>\n",
       "      <th>size</th>\n",
       "      <th>release_price</th>\n",
       "      <th>location1</th>\n",
       "      <th>location2</th>\n",
       "      <th>location3</th>\n",
       "    </tr>\n",
       "  </thead>\n",
       "  <tbody>\n",
       "    <tr>\n",
       "      <th>1</th>\n",
       "      <td>서울특별시 서대문구 충현동</td>\n",
       "      <td>[w290]조던1 미드 울프그레이</td>\n",
       "      <td>1</td>\n",
       "      <td>169370834</td>\n",
       "      <td>295000</td>\n",
       "      <td>0</td>\n",
       "      <td>76764290</td>\n",
       "      <td>1636609867</td>\n",
       "      <td>1</td>\n",
       "      <td>2021-11-11 14:51:07</td>\n",
       "      <td>2021-11-11</td>\n",
       "      <td>조던1 미드 울프그레이</td>\n",
       "      <td>조던</td>\n",
       "      <td>조던1 미드</td>\n",
       "      <td>울프그레이</td>\n",
       "      <td>290</td>\n",
       "      <td>199000</td>\n",
       "      <td>서울특별시</td>\n",
       "      <td>서대문구</td>\n",
       "      <td>충현동</td>\n",
       "    </tr>\n",
       "    <tr>\n",
       "      <th>2</th>\n",
       "      <td>NULL</td>\n",
       "      <td>조던1 미드 울프그레이 280</td>\n",
       "      <td>6</td>\n",
       "      <td>168939660</td>\n",
       "      <td>270000</td>\n",
       "      <td>0</td>\n",
       "      <td>77678438</td>\n",
       "      <td>1636604048</td>\n",
       "      <td>1</td>\n",
       "      <td>2021-11-11 13:14:08</td>\n",
       "      <td>2021-11-11</td>\n",
       "      <td>조던1 미드 울프그레이</td>\n",
       "      <td>조던</td>\n",
       "      <td>조던1 미드</td>\n",
       "      <td>울프그레이</td>\n",
       "      <td>280</td>\n",
       "      <td>199000</td>\n",
       "      <td>NUL</td>\n",
       "      <td>NUL</td>\n",
       "      <td>NULL</td>\n",
       "    </tr>\n",
       "    <tr>\n",
       "      <th>3</th>\n",
       "      <td>서울특별시 광진구 능동</td>\n",
       "      <td>W에어조던 1 미드 울프그레이 235사이즈</td>\n",
       "      <td>8</td>\n",
       "      <td>160207153</td>\n",
       "      <td>350000</td>\n",
       "      <td>0</td>\n",
       "      <td>9501687</td>\n",
       "      <td>1636601704</td>\n",
       "      <td>2</td>\n",
       "      <td>2021-11-11 12:35:04</td>\n",
       "      <td>2021-11-11</td>\n",
       "      <td>조던1 미드 울프그레이</td>\n",
       "      <td>조던</td>\n",
       "      <td>조던1 미드</td>\n",
       "      <td>울프그레이</td>\n",
       "      <td>235</td>\n",
       "      <td>199000</td>\n",
       "      <td>서울특별시</td>\n",
       "      <td>광진구</td>\n",
       "      <td>능동</td>\n",
       "    </tr>\n",
       "    <tr>\n",
       "      <th>4</th>\n",
       "      <td>서울특별시 영등포구 여의동</td>\n",
       "      <td>조던1 미드 울프그레이 290</td>\n",
       "      <td>16</td>\n",
       "      <td>163620290</td>\n",
       "      <td>349000</td>\n",
       "      <td>0</td>\n",
       "      <td>12040324</td>\n",
       "      <td>1636601268</td>\n",
       "      <td>2</td>\n",
       "      <td>2021-11-11 12:27:48</td>\n",
       "      <td>2021-11-11</td>\n",
       "      <td>조던1 미드 울프그레이</td>\n",
       "      <td>조던</td>\n",
       "      <td>조던1 미드</td>\n",
       "      <td>울프그레이</td>\n",
       "      <td>290</td>\n",
       "      <td>199000</td>\n",
       "      <td>서울특별시</td>\n",
       "      <td>영등포구</td>\n",
       "      <td>여의동</td>\n",
       "    </tr>\n",
       "    <tr>\n",
       "      <th>5</th>\n",
       "      <td>경기도 시흥시 연성동</td>\n",
       "      <td>나이키 조던1 미드 울프그레이 250</td>\n",
       "      <td>14</td>\n",
       "      <td>169271698</td>\n",
       "      <td>220000</td>\n",
       "      <td>0</td>\n",
       "      <td>1226483</td>\n",
       "      <td>1636600008</td>\n",
       "      <td>1</td>\n",
       "      <td>2021-11-11 12:06:48</td>\n",
       "      <td>2021-11-11</td>\n",
       "      <td>조던1 미드 울프그레이</td>\n",
       "      <td>조던</td>\n",
       "      <td>조던1 미드</td>\n",
       "      <td>울프그레이</td>\n",
       "      <td>250</td>\n",
       "      <td>199000</td>\n",
       "      <td>경기도</td>\n",
       "      <td>시흥시</td>\n",
       "      <td>연성동</td>\n",
       "    </tr>\n",
       "    <tr>\n",
       "      <th>...</th>\n",
       "      <td>...</td>\n",
       "      <td>...</td>\n",
       "      <td>...</td>\n",
       "      <td>...</td>\n",
       "      <td>...</td>\n",
       "      <td>...</td>\n",
       "      <td>...</td>\n",
       "      <td>...</td>\n",
       "      <td>...</td>\n",
       "      <td>...</td>\n",
       "      <td>...</td>\n",
       "      <td>...</td>\n",
       "      <td>...</td>\n",
       "      <td>...</td>\n",
       "      <td>...</td>\n",
       "      <td>...</td>\n",
       "      <td>...</td>\n",
       "      <td>...</td>\n",
       "      <td>...</td>\n",
       "      <td>...</td>\n",
       "    </tr>\n",
       "    <tr>\n",
       "      <th>163</th>\n",
       "      <td>경기도 안산시 단원구 신길동</td>\n",
       "      <td>조던1 미드 울프그레이 235</td>\n",
       "      <td>9</td>\n",
       "      <td>161826958</td>\n",
       "      <td>200000</td>\n",
       "      <td>3</td>\n",
       "      <td>8710268</td>\n",
       "      <td>1629377598</td>\n",
       "      <td>1</td>\n",
       "      <td>2021-08-19 21:53:18</td>\n",
       "      <td>2021-08-19</td>\n",
       "      <td>조던1 미드 울프그레이</td>\n",
       "      <td>조던</td>\n",
       "      <td>조던1 미드</td>\n",
       "      <td>울프그레이</td>\n",
       "      <td>235</td>\n",
       "      <td>199000</td>\n",
       "      <td>경기도</td>\n",
       "      <td>안산시</td>\n",
       "      <td>단원구 신길동</td>\n",
       "    </tr>\n",
       "    <tr>\n",
       "      <th>164</th>\n",
       "      <td>서울특별시 은평구 진관동</td>\n",
       "      <td>[235] 조던 1 미드 울프 그레이</td>\n",
       "      <td>2</td>\n",
       "      <td>162035548</td>\n",
       "      <td>250000</td>\n",
       "      <td>3</td>\n",
       "      <td>11608043</td>\n",
       "      <td>1629210095</td>\n",
       "      <td>2</td>\n",
       "      <td>2021-08-17 23:21:35</td>\n",
       "      <td>2021-08-17</td>\n",
       "      <td>조던1 미드 울프그레이</td>\n",
       "      <td>조던</td>\n",
       "      <td>조던1 미드</td>\n",
       "      <td>울프그레이</td>\n",
       "      <td>235</td>\n",
       "      <td>199000</td>\n",
       "      <td>서울특별시</td>\n",
       "      <td>은평구</td>\n",
       "      <td>진관동</td>\n",
       "    </tr>\n",
       "    <tr>\n",
       "      <th>165</th>\n",
       "      <td>NULL</td>\n",
       "      <td>[W255]조던1 미드 울프그레이</td>\n",
       "      <td>3</td>\n",
       "      <td>161752895</td>\n",
       "      <td>220000</td>\n",
       "      <td>3</td>\n",
       "      <td>74970291</td>\n",
       "      <td>1629114264</td>\n",
       "      <td>2</td>\n",
       "      <td>2021-08-16 20:44:24</td>\n",
       "      <td>2021-08-16</td>\n",
       "      <td>조던1 미드 울프그레이</td>\n",
       "      <td>조던</td>\n",
       "      <td>조던1 미드</td>\n",
       "      <td>울프그레이</td>\n",
       "      <td>255</td>\n",
       "      <td>199000</td>\n",
       "      <td>NUL</td>\n",
       "      <td>NUL</td>\n",
       "      <td>NULL</td>\n",
       "    </tr>\n",
       "    <tr>\n",
       "      <th>166</th>\n",
       "      <td>경기도 고양시 일산서구 일산3동</td>\n",
       "      <td>조던 1 미드 울프 그레이 11W (280)</td>\n",
       "      <td>2</td>\n",
       "      <td>161860550</td>\n",
       "      <td>235000</td>\n",
       "      <td>3</td>\n",
       "      <td>77226746</td>\n",
       "      <td>1629037422</td>\n",
       "      <td>2</td>\n",
       "      <td>2021-08-15 23:23:42</td>\n",
       "      <td>2021-08-15</td>\n",
       "      <td>조던1 미드 울프그레이</td>\n",
       "      <td>조던</td>\n",
       "      <td>조던1 미드</td>\n",
       "      <td>울프그레이</td>\n",
       "      <td>280</td>\n",
       "      <td>199000</td>\n",
       "      <td>경기도</td>\n",
       "      <td>고양시</td>\n",
       "      <td>일산서구 일산3동</td>\n",
       "    </tr>\n",
       "    <tr>\n",
       "      <th>167</th>\n",
       "      <td>서울특별시 영등포구 당산제1동</td>\n",
       "      <td>[W240] 조던 1 미드 울프 그레이</td>\n",
       "      <td>3</td>\n",
       "      <td>161747129</td>\n",
       "      <td>200000</td>\n",
       "      <td>3</td>\n",
       "      <td>3432494</td>\n",
       "      <td>1628923079</td>\n",
       "      <td>2</td>\n",
       "      <td>2021-08-14 15:37:59</td>\n",
       "      <td>2021-08-14</td>\n",
       "      <td>조던1 미드 울프그레이</td>\n",
       "      <td>조던</td>\n",
       "      <td>조던1 미드</td>\n",
       "      <td>울프그레이</td>\n",
       "      <td>240</td>\n",
       "      <td>199000</td>\n",
       "      <td>서울특별시</td>\n",
       "      <td>영등포구</td>\n",
       "      <td>당산제1동</td>\n",
       "    </tr>\n",
       "  </tbody>\n",
       "</table>\n",
       "<p>153 rows × 20 columns</p>\n",
       "</div>"
      ],
      "text/plain": [
       "              location                      name  num_faved        pid  \\\n",
       "1       서울특별시 서대문구 충현동        [w290]조던1 미드 울프그레이          1  169370834   \n",
       "2                 NULL          조던1 미드 울프그레이 280          6  168939660   \n",
       "3         서울특별시 광진구 능동   W에어조던 1 미드 울프그레이 235사이즈          8  160207153   \n",
       "4       서울특별시 영등포구 여의동          조던1 미드 울프그레이 290         16  163620290   \n",
       "5          경기도 시흥시 연성동      나이키 조던1 미드 울프그레이 250         14  169271698   \n",
       "..                 ...                       ...        ...        ...   \n",
       "163    경기도 안산시 단원구 신길동          조던1 미드 울프그레이 235          9  161826958   \n",
       "164      서울특별시 은평구 진관동      [235] 조던 1 미드 울프 그레이          2  162035548   \n",
       "165               NULL        [W255]조던1 미드 울프그레이          3  161752895   \n",
       "166  경기도 고양시 일산서구 일산3동  조던 1 미드 울프 그레이 11W (280)          2  161860550   \n",
       "167   서울특별시 영등포구 당산제1동     [W240] 조던 1 미드 울프 그레이          3  161747129   \n",
       "\n",
       "      price  status       uid  update_time  used             datetime  \\\n",
       "1    295000       0  76764290   1636609867     1  2021-11-11 14:51:07   \n",
       "2    270000       0  77678438   1636604048     1  2021-11-11 13:14:08   \n",
       "3    350000       0   9501687   1636601704     2  2021-11-11 12:35:04   \n",
       "4    349000       0  12040324   1636601268     2  2021-11-11 12:27:48   \n",
       "5    220000       0   1226483   1636600008     1  2021-11-11 12:06:48   \n",
       "..      ...     ...       ...          ...   ...                  ...   \n",
       "163  200000       3   8710268   1629377598     1  2021-08-19 21:53:18   \n",
       "164  250000       3  11608043   1629210095     2  2021-08-17 23:21:35   \n",
       "165  220000       3  74970291   1629114264     2  2021-08-16 20:44:24   \n",
       "166  235000       3  77226746   1629037422     2  2021-08-15 23:23:42   \n",
       "167  200000       3   3432494   1628923079     2  2021-08-14 15:37:59   \n",
       "\n",
       "          date  product_name brand product_type  color  size  release_price  \\\n",
       "1   2021-11-11  조던1 미드 울프그레이    조던       조던1 미드  울프그레이   290         199000   \n",
       "2   2021-11-11  조던1 미드 울프그레이    조던       조던1 미드  울프그레이   280         199000   \n",
       "3   2021-11-11  조던1 미드 울프그레이    조던       조던1 미드  울프그레이   235         199000   \n",
       "4   2021-11-11  조던1 미드 울프그레이    조던       조던1 미드  울프그레이   290         199000   \n",
       "5   2021-11-11  조던1 미드 울프그레이    조던       조던1 미드  울프그레이   250         199000   \n",
       "..         ...           ...   ...          ...    ...   ...            ...   \n",
       "163 2021-08-19  조던1 미드 울프그레이    조던       조던1 미드  울프그레이   235         199000   \n",
       "164 2021-08-17  조던1 미드 울프그레이    조던       조던1 미드  울프그레이   235         199000   \n",
       "165 2021-08-16  조던1 미드 울프그레이    조던       조던1 미드  울프그레이   255         199000   \n",
       "166 2021-08-15  조던1 미드 울프그레이    조던       조던1 미드  울프그레이   280         199000   \n",
       "167 2021-08-14  조던1 미드 울프그레이    조던       조던1 미드  울프그레이   240         199000   \n",
       "\n",
       "    location1 location2  location3  \n",
       "1       서울특별시      서대문구        충현동  \n",
       "2         NUL       NUL       NULL  \n",
       "3       서울특별시       광진구         능동  \n",
       "4       서울특별시      영등포구        여의동  \n",
       "5         경기도       시흥시        연성동  \n",
       "..        ...       ...        ...  \n",
       "163       경기도       안산시    단원구 신길동  \n",
       "164     서울특별시       은평구        진관동  \n",
       "165       NUL       NUL       NULL  \n",
       "166       경기도       고양시  일산서구 일산3동  \n",
       "167     서울특별시      영등포구      당산제1동  \n",
       "\n",
       "[153 rows x 20 columns]"
      ]
     },
     "execution_count": 66,
     "metadata": {},
     "output_type": "execute_result"
    }
   ],
   "source": [
    "product"
   ]
  },
  {
   "cell_type": "code",
   "execution_count": null,
   "id": "fda34c62",
   "metadata": {},
   "outputs": [],
   "source": []
  },
  {
   "cell_type": "markdown",
   "id": "0b1663d7",
   "metadata": {},
   "source": [
    "## Duplicate 제거\n",
    "- pid기준으로 중복제거"
   ]
  },
  {
   "cell_type": "code",
   "execution_count": 67,
   "id": "4f160fa6",
   "metadata": {},
   "outputs": [],
   "source": [
    "def deduplicator(df):\n",
    "    df = df.drop_duplicates(['pid'], keep='first')\n",
    "    return df"
   ]
  },
  {
   "cell_type": "code",
   "execution_count": 68,
   "id": "95479adc",
   "metadata": {},
   "outputs": [
    {
     "data": {
      "text/plain": [
       "153"
      ]
     },
     "execution_count": 68,
     "metadata": {},
     "output_type": "execute_result"
    }
   ],
   "source": [
    "len(product)"
   ]
  },
  {
   "cell_type": "code",
   "execution_count": 69,
   "id": "b9f05f50",
   "metadata": {},
   "outputs": [
    {
     "data": {
      "text/plain": [
       "153"
      ]
     },
     "execution_count": 69,
     "metadata": {},
     "output_type": "execute_result"
    }
   ],
   "source": [
    "len(deduplicator(product))"
   ]
  },
  {
   "cell_type": "markdown",
   "id": "e9bd09c4",
   "metadata": {},
   "source": [
    "# 저장"
   ]
  },
  {
   "cell_type": "code",
   "execution_count": 70,
   "id": "3dc123f7",
   "metadata": {},
   "outputs": [],
   "source": [
    "product.to_csv('./data/jodan1_mid_wolfgray.csv')"
   ]
  },
  {
   "cell_type": "code",
   "execution_count": 71,
   "id": "30fae95b",
   "metadata": {},
   "outputs": [
    {
     "data": {
      "text/plain": [
       "20"
      ]
     },
     "execution_count": 71,
     "metadata": {},
     "output_type": "execute_result"
    }
   ],
   "source": [
    "len(product.columns)"
   ]
  },
  {
   "cell_type": "code",
   "execution_count": null,
   "id": "cf73ae96",
   "metadata": {},
   "outputs": [],
   "source": []
  },
  {
   "cell_type": "code",
   "execution_count": 72,
   "id": "164c3b31",
   "metadata": {},
   "outputs": [
    {
     "data": {
      "text/plain": [
       "<AxesSubplot:xlabel='datetime', ylabel='price'>"
      ]
     },
     "execution_count": 72,
     "metadata": {},
     "output_type": "execute_result"
    },
    {
     "data": {
      "image/png": "[encoded data removed]",
      "text/plain": [
       "<Figure size 432x288 with 1 Axes>"
      ]
     },
     "metadata": {
      "image/png": {
       "height": 261,
       "width": 454
      },
      "needs_background": "light"
     },
     "output_type": "display_data"
    }
   ],
   "source": [
    "sns.lineplot(data = product, x='datetime', y='price')"
   ]
  },
  {
   "cell_type": "code",
   "execution_count": null,
   "id": "5cd1381c",
   "metadata": {},
   "outputs": [],
   "source": []
  },
  {
   "cell_type": "code",
   "execution_count": null,
   "id": "550ea5e7",
   "metadata": {},
   "outputs": [],
   "source": []
  }
 ],
 "metadata": {
  "kernelspec": {
   "display_name": "Python 3",
   "language": "python",
   "name": "python3"
  },
  "language_info": {
   "codemirror_mode": {
    "name": "ipython",
    "version": 3
   },
   "file_extension": ".py",
   "mimetype": "text/x-python",
   "name": "python",
   "nbconvert_exporter": "python",
   "pygments_lexer": "ipython3",
   "version": "3.8.8"
  },
  "toc": {
   "base_numbering": 1,
   "nav_menu": {},
   "number_sections": true,
   "sideBar": true,
   "skip_h1_title": false,
   "title_cell": "Table of Contents",
   "title_sidebar": "Contents",
   "toc_cell": false,
   "toc_position": {},
   "toc_section_display": true,
   "toc_window_display": false
  },
  "varInspector": {
   "cols": {
    "lenName": 16,
    "lenType": 16,
    "lenVar": 40
   },
   "kernels_config": {
    "python": {
     "delete_cmd_postfix": "",
     "delete_cmd_prefix": "del ",
     "library": "var_list.py",
     "varRefreshCmd": "print(var_dic_list())"
    },
    "r": {
     "delete_cmd_postfix": ") ",
     "delete_cmd_prefix": "rm(",
     "library": "var_list.r",
     "varRefreshCmd": "cat(var_dic_list()) "
    }
   },
   "types_to_exclude": [
    "module",
    "function",
    "builtin_function_or_method",
    "instance",
    "_Feature"
   ],
   "window_display": false
  }
 },
 "nbformat": 4,
 "nbformat_minor": 5
}
