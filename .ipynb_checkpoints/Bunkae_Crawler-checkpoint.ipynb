{
 "cells": [
  {
   "cell_type": "markdown",
   "id": "e2970c1d",
   "metadata": {},
   "source": [
    "## 번개장터 데이터 수집을 위한 크롤러\n",
    "\n",
    "- 번개장터 데이터를 수집하기 위한 크롤러 입니다.\n",
    "- 크롤링하는 과정을 함수화(모듈화)하여 편의성을 높입니다.\n",
    "- 크롤링 후에는 중복 제거, 날짜컬럼 생성의 과정을 거칩니다.\n",
    "- 키워드 리스트를 만들어 for문을 수행합니다."
   ]
  },
  {
   "cell_type": "markdown",
   "id": "937a45b9",
   "metadata": {},
   "source": [
    "### import package"
   ]
  },
  {
   "cell_type": "code",
   "execution_count": 1,
   "id": "aef17b5a",
   "metadata": {},
   "outputs": [],
   "source": [
    "import requests # 크롤링을 위함\n",
    "import json # json파일을 다루기위함\n",
    "import time # 크롤링에 딜레이를 두기 위함\n",
    "from datetime import datetime, timedelta # 날짜데이터 변환을 위함\n",
    "\n",
    "import pandas as pd\n",
    "import numpy as np\n",
    "\n",
    "# 데이터프레임이 짤려보이는 것을 해결해줌\n",
    "pd.options.display.max_rows=100\n",
    "pd.options.display.max_columns=100"
   ]
  },
  {
   "cell_type": "markdown",
   "id": "85a1be95",
   "metadata": {},
   "source": [
    "### List for crawling\n",
    "\n",
    "- 크롤링할 대상이되는 데이터를 리스트로 정리한다.\n",
    "- keywords 리스트와 url이 있다.\n",
    "- 이 문서의 마지막에 모든 키워드를 크롤링하는 함수가 있다.\n",
    "\n",
    "\n",
    "**[사용법]**\n",
    "1. keywords 리스트에 검색어를 차례로 입력한다.\n",
    "2. url은 keyword에 해당되는 Request URL을 입력하였고, 이는 키워드가 달라져도 변함이 없다.<br>\n",
    "    1. url은 개발자도구 Network 탭에서 페이지클릭 후 find_v2.json파일에 해당되는 Request URL을 가져온다.\n",
    "    2. find_v2.json?q={} => 상품명을 {}로 변환한다 (함수 내에서 포맷팅을 위해)\n",
    "    3. order=date&page={} => 페이지를 {}로 변환한다 (함수 내에서 포맷팅을 위해)\n",
    "    4. 검색 시점에 해당되는 request_id가 있으나 시간데이터로 모두 같은 url을 사용함으로써 통일시킨다."
   ]
  },
  {
   "cell_type": "code",
   "execution_count": 2,
   "id": "0338d4d0",
   "metadata": {},
   "outputs": [],
   "source": [
    "keywords = ['나이키 덩크로우 범고래', '뉴발란스 992 그레이']\n",
    "url = 'https://api.bunjang.co.kr/api/1/find_v2.json?q={}&order=date&page={}&request_id=20211110194853&stat_uid=77848616&token=c63b703f121940d189c222b3335d80ed&stat_device=w&n=100&stat_category_required=1&req_ref=search&version=4'"
   ]
  },
  {
   "cell_type": "markdown",
   "id": "960147d2",
   "metadata": {},
   "source": [
    "### Crawler\n",
    "\n",
    "- keyword와 url, n을 변수로 받아 크롤링을 진행한다.\n",
    "- keyword와 url은 리스트이고, n은 1페이지부터 n페이지까지 크롤링해준다. (**default=20** : 20페이지 * 100 = 2000개)\n",
    "- 데이터프레임을 반환받으며, 크롤러 함수를 변수에 선언해주어야한다."
   ]
  },
  {
   "cell_type": "code",
   "execution_count": 3,
   "id": "1ee35a70",
   "metadata": {},
   "outputs": [],
   "source": [
    "def bunkae_crawler(keyword, n=20):\n",
    "    df = pd.DataFrame()\n",
    "    \n",
    "    for i in range(0,n):\n",
    "\n",
    "        # 차단막는 코드, 랜덤으로 time.sleep 지정\n",
    "        seed = np.random.randint(100)\n",
    "        np.random.seed(seed)\n",
    "        a = np.random.randint(3)\n",
    "        time.sleep(a)\n",
    "        \n",
    "        url_formating = url.format(keyword, i) # url에 포맷팅을 적용한다.\n",
    "        info = {\n",
    "        'referer': 'https://m.bunjang.co.kr/',\n",
    "        'user-agent': 'Mozilla/5.0 (Macintosh; Intel Mac OS X 10_15_7) AppleWebKit/537.36 (KHTML, like Gecko) Chrome/95.0.4638.54 Safari/537.36'\n",
    "        } # info는 변화없음\n",
    "\n",
    "        print(f'{i}th, {(i+1)*100}개째 상품을 크롤링 중')\n",
    "        # requests로 데이터 요청하기\n",
    "        resp = requests.get(url_formating, headers = info)\n",
    "\n",
    "        if resp.status_code == requests.codes.ok:\n",
    "            data = json.loads(resp.text)\n",
    "            next_df = pd.DataFrame(data['list'])\n",
    "            df = pd.concat([df, next_df])\n",
    "\n",
    "        else:\n",
    "            print(f'{i}번째 요청이 잘못되었습니다.')\n",
    "            pass # 넘겨준다.\n",
    "\n",
    "    print('크롤링 완료!!')\n",
    "    result = df.reset_index(drop=True)\n",
    "    return result"
   ]
  },
  {
   "cell_type": "code",
   "execution_count": 4,
   "id": "d48c6cbc",
   "metadata": {},
   "outputs": [
    {
     "name": "stdout",
     "output_type": "stream",
     "text": [
      "0th, 100개째 상품을 크롤링 중\n",
      "1th, 200개째 상품을 크롤링 중\n",
      "2th, 300개째 상품을 크롤링 중\n",
      "3th, 400개째 상품을 크롤링 중\n",
      "4th, 500개째 상품을 크롤링 중\n",
      "크롤링 완료!!\n"
     ]
    }
   ],
   "source": [
    "# test : '나이키 덩크로우 범고래'를 5페이지만 가져와보자\n",
    "bunkae = bunkae_crawler(keywords[1], 5)"
   ]
  },
  {
   "cell_type": "code",
   "execution_count": 5,
   "id": "3d2fb287",
   "metadata": {
    "scrolled": true
   },
   "outputs": [
    {
     "data": {
      "text/plain": [
       "500"
      ]
     },
     "execution_count": 5,
     "metadata": {},
     "output_type": "execute_result"
    }
   ],
   "source": [
    "len(bunkae['pid'].value_counts())"
   ]
  },
  {
   "cell_type": "markdown",
   "id": "e906aa47",
   "metadata": {},
   "source": [
    "### Data copy\n",
    "\n",
    "- 크롤링을 다시 진행하는 것을 막기 위해 데이터 조작 전, 백업한다.\n",
    "- 뒤에서 작업은 bunkae_df를 사용한다."
   ]
  },
  {
   "cell_type": "code",
   "execution_count": 6,
   "id": "ee858750",
   "metadata": {},
   "outputs": [],
   "source": [
    "bunkae_df = bunkae.copy()"
   ]
  },
  {
   "cell_type": "markdown",
   "id": "1b02a8e0",
   "metadata": {},
   "source": [
    "### Deduplicator\n",
    "\n",
    "- 크롤링 과정에서 상품이 등록되면 한칸씩 밀리면서 같은 상품이 두번 크롤링되는 경우가 있다. 이를 해결하기 위한 함수이다.\n",
    "- pid(상품명)를 기준으로 중복을 제거한다. (상품명은 unique id)"
   ]
  },
  {
   "cell_type": "code",
   "execution_count": 7,
   "id": "fac46814",
   "metadata": {},
   "outputs": [],
   "source": [
    "def deduplicator(df):\n",
    "    df = df.drop_duplicates(['pid'], keep='first')\n",
    "    return df"
   ]
  },
  {
   "cell_type": "code",
   "execution_count": 8,
   "id": "b334d375",
   "metadata": {},
   "outputs": [
    {
     "data": {
      "text/plain": [
       "500"
      ]
     },
     "execution_count": 8,
     "metadata": {},
     "output_type": "execute_result"
    }
   ],
   "source": [
    "len(deduplicator(bunkae_df)['pid'])"
   ]
  },
  {
   "cell_type": "markdown",
   "id": "7e49d91d",
   "metadata": {},
   "source": [
    "### Datetime maker\n",
    "\n",
    "- update_time 컬럼 : 1970-01-01 09:00 이후로 초를 카운트한 값이다.<br>\n",
    "    - 1970-01-01 09:00라는 기준에서 5분 이내의 오차가 존재한다. (큰 문제 없음)\n",
    "- update_time 컬럼을 datetime과 timedelta를 이용해 날짜로 변환한다.\n",
    "- 새로 생성된 컬럼<br>\n",
    "    - datetime : timedelta형식의 날짜데이터\n",
    "    - year : 년도데이터\n",
    "    - month : 월 데이터\n",
    "    - day : 일 데이터\n",
    "    - weekday : 요일 데이터\n",
    "    - hour : 시간 데이터"
   ]
  },
  {
   "cell_type": "code",
   "execution_count": 9,
   "id": "3bfe3af0",
   "metadata": {},
   "outputs": [],
   "source": [
    "def get_date(x):\n",
    "    return datetime(1970,1,1,9) + timedelta(seconds=int(x))"
   ]
  },
  {
   "cell_type": "code",
   "execution_count": 10,
   "id": "97236f29",
   "metadata": {},
   "outputs": [],
   "source": [
    "def datetime_maker(df):\n",
    "    df['datetime'] = df['update_time'].apply(get_date)\n",
    "    df['year'] = df['datetime'].dt.year\n",
    "    df['month'] = df['datetime'].dt.month\n",
    "    df['day'] = df['datetime'].dt.day\n",
    "    df['hour'] = df['datetime'].dt.weekday\n",
    "    df['hour'] = df['datetime'].dt.hour\n",
    "    return df"
   ]
  },
  {
   "cell_type": "code",
   "execution_count": 11,
   "id": "d118d3a9",
   "metadata": {},
   "outputs": [
    {
     "data": {
      "text/html": [
       "<div>\n",
       "<style scoped>\n",
       "    .dataframe tbody tr th:only-of-type {\n",
       "        vertical-align: middle;\n",
       "    }\n",
       "\n",
       "    .dataframe tbody tr th {\n",
       "        vertical-align: top;\n",
       "    }\n",
       "\n",
       "    .dataframe thead th {\n",
       "        text-align: right;\n",
       "    }\n",
       "</style>\n",
       "<table border=\"1\" class=\"dataframe\">\n",
       "  <thead>\n",
       "    <tr style=\"text-align: right;\">\n",
       "      <th></th>\n",
       "      <th>ad</th>\n",
       "      <th>bizseller</th>\n",
       "      <th>checkout</th>\n",
       "      <th>contact_hope</th>\n",
       "      <th>free_shipping</th>\n",
       "      <th>is_adult</th>\n",
       "      <th>is_super_up_shop</th>\n",
       "      <th>location</th>\n",
       "      <th>max_cpc</th>\n",
       "      <th>name</th>\n",
       "      <th>num_comment</th>\n",
       "      <th>num_faved</th>\n",
       "      <th>only_neighborhood</th>\n",
       "      <th>outlink_url</th>\n",
       "      <th>pid</th>\n",
       "      <th>price</th>\n",
       "      <th>product_image</th>\n",
       "      <th>pu_id</th>\n",
       "      <th>ref_campaign</th>\n",
       "      <th>ref_code</th>\n",
       "      <th>ref_medium</th>\n",
       "      <th>ref_content</th>\n",
       "      <th>ref_source</th>\n",
       "      <th>status</th>\n",
       "      <th>style</th>\n",
       "      <th>super_up</th>\n",
       "      <th>tag</th>\n",
       "      <th>uid</th>\n",
       "      <th>update_time</th>\n",
       "      <th>used</th>\n",
       "      <th>bun_pay_filter_enabled</th>\n",
       "      <th>imp_id</th>\n",
       "      <th>ad_ref</th>\n",
       "      <th>faved</th>\n",
       "    </tr>\n",
       "  </thead>\n",
       "  <tbody>\n",
       "    <tr>\n",
       "      <th>0</th>\n",
       "      <td>False</td>\n",
       "      <td>False</td>\n",
       "      <td>False</td>\n",
       "      <td>False</td>\n",
       "      <td>False</td>\n",
       "      <td>False</td>\n",
       "      <td>None</td>\n",
       "      <td>서울특별시 노원구 하계2동</td>\n",
       "      <td>None</td>\n",
       "      <td>[새상품,265] 뉴발란스 992 그레이</td>\n",
       "      <td>0</td>\n",
       "      <td>0</td>\n",
       "      <td>False</td>\n",
       "      <td></td>\n",
       "      <td>169025678</td>\n",
       "      <td>380000</td>\n",
       "      <td>https://media.bunjang.co.kr/product/169025678_...</td>\n",
       "      <td>None</td>\n",
       "      <td>None</td>\n",
       "      <td>soldout_test_v2:B</td>\n",
       "      <td>None</td>\n",
       "      <td></td>\n",
       "      <td></td>\n",
       "      <td>0</td>\n",
       "      <td></td>\n",
       "      <td>None</td>\n",
       "      <td>992 뉴발992 뉴발란스992</td>\n",
       "      <td>8490543</td>\n",
       "      <td>1636542407</td>\n",
       "      <td>2</td>\n",
       "      <td>False</td>\n",
       "      <td>2993618baa9c0b7e12f6</td>\n",
       "      <td></td>\n",
       "      <td>False</td>\n",
       "    </tr>\n",
       "  </tbody>\n",
       "</table>\n",
       "</div>"
      ],
      "text/plain": [
       "      ad  bizseller  checkout  contact_hope  free_shipping  is_adult  \\\n",
       "0  False      False     False         False          False     False   \n",
       "\n",
       "  is_super_up_shop        location max_cpc                    name  \\\n",
       "0             None  서울특별시 노원구 하계2동    None  [새상품,265] 뉴발란스 992 그레이   \n",
       "\n",
       "  num_comment num_faved  only_neighborhood outlink_url        pid   price  \\\n",
       "0           0         0              False              169025678  380000   \n",
       "\n",
       "                                       product_image pu_id ref_campaign  \\\n",
       "0  https://media.bunjang.co.kr/product/169025678_...  None         None   \n",
       "\n",
       "            ref_code ref_medium ref_content ref_source status style super_up  \\\n",
       "0  soldout_test_v2:B       None                             0           None   \n",
       "\n",
       "                 tag      uid  update_time  used  bun_pay_filter_enabled  \\\n",
       "0  992 뉴발992 뉴발란스992  8490543   1636542407     2                   False   \n",
       "\n",
       "                 imp_id ad_ref  faved  \n",
       "0  2993618baa9c0b7e12f6         False  "
      ]
     },
     "execution_count": 11,
     "metadata": {},
     "output_type": "execute_result"
    }
   ],
   "source": [
    "bunkae_df.head(1)"
   ]
  },
  {
   "cell_type": "code",
   "execution_count": 12,
   "id": "5457890c",
   "metadata": {},
   "outputs": [],
   "source": [
    "bunkae_df = datetime_maker(bunkae_df)"
   ]
  },
  {
   "cell_type": "code",
   "execution_count": 13,
   "id": "322cebba",
   "metadata": {},
   "outputs": [
    {
     "data": {
      "text/html": [
       "<div>\n",
       "<style scoped>\n",
       "    .dataframe tbody tr th:only-of-type {\n",
       "        vertical-align: middle;\n",
       "    }\n",
       "\n",
       "    .dataframe tbody tr th {\n",
       "        vertical-align: top;\n",
       "    }\n",
       "\n",
       "    .dataframe thead th {\n",
       "        text-align: right;\n",
       "    }\n",
       "</style>\n",
       "<table border=\"1\" class=\"dataframe\">\n",
       "  <thead>\n",
       "    <tr style=\"text-align: right;\">\n",
       "      <th></th>\n",
       "      <th>ad</th>\n",
       "      <th>bizseller</th>\n",
       "      <th>checkout</th>\n",
       "      <th>contact_hope</th>\n",
       "      <th>free_shipping</th>\n",
       "      <th>is_adult</th>\n",
       "      <th>is_super_up_shop</th>\n",
       "      <th>location</th>\n",
       "      <th>max_cpc</th>\n",
       "      <th>name</th>\n",
       "      <th>num_comment</th>\n",
       "      <th>num_faved</th>\n",
       "      <th>only_neighborhood</th>\n",
       "      <th>outlink_url</th>\n",
       "      <th>pid</th>\n",
       "      <th>price</th>\n",
       "      <th>product_image</th>\n",
       "      <th>pu_id</th>\n",
       "      <th>ref_campaign</th>\n",
       "      <th>ref_code</th>\n",
       "      <th>ref_medium</th>\n",
       "      <th>ref_content</th>\n",
       "      <th>ref_source</th>\n",
       "      <th>status</th>\n",
       "      <th>style</th>\n",
       "      <th>super_up</th>\n",
       "      <th>tag</th>\n",
       "      <th>uid</th>\n",
       "      <th>update_time</th>\n",
       "      <th>used</th>\n",
       "      <th>bun_pay_filter_enabled</th>\n",
       "      <th>imp_id</th>\n",
       "      <th>ad_ref</th>\n",
       "      <th>faved</th>\n",
       "      <th>datetime</th>\n",
       "      <th>year</th>\n",
       "      <th>month</th>\n",
       "      <th>day</th>\n",
       "      <th>hour</th>\n",
       "    </tr>\n",
       "  </thead>\n",
       "  <tbody>\n",
       "    <tr>\n",
       "      <th>0</th>\n",
       "      <td>False</td>\n",
       "      <td>False</td>\n",
       "      <td>False</td>\n",
       "      <td>False</td>\n",
       "      <td>False</td>\n",
       "      <td>False</td>\n",
       "      <td>None</td>\n",
       "      <td>서울특별시 노원구 하계2동</td>\n",
       "      <td>None</td>\n",
       "      <td>[새상품,265] 뉴발란스 992 그레이</td>\n",
       "      <td>0</td>\n",
       "      <td>0</td>\n",
       "      <td>False</td>\n",
       "      <td></td>\n",
       "      <td>169025678</td>\n",
       "      <td>380000</td>\n",
       "      <td>https://media.bunjang.co.kr/product/169025678_...</td>\n",
       "      <td>None</td>\n",
       "      <td>None</td>\n",
       "      <td>soldout_test_v2:B</td>\n",
       "      <td>None</td>\n",
       "      <td></td>\n",
       "      <td></td>\n",
       "      <td>0</td>\n",
       "      <td></td>\n",
       "      <td>None</td>\n",
       "      <td>992 뉴발992 뉴발란스992</td>\n",
       "      <td>8490543</td>\n",
       "      <td>1636542407</td>\n",
       "      <td>2</td>\n",
       "      <td>False</td>\n",
       "      <td>2993618baa9c0b7e12f6</td>\n",
       "      <td></td>\n",
       "      <td>False</td>\n",
       "      <td>2021-11-10 20:06:47</td>\n",
       "      <td>2021</td>\n",
       "      <td>11</td>\n",
       "      <td>10</td>\n",
       "      <td>20</td>\n",
       "    </tr>\n",
       "  </tbody>\n",
       "</table>\n",
       "</div>"
      ],
      "text/plain": [
       "      ad  bizseller  checkout  contact_hope  free_shipping  is_adult  \\\n",
       "0  False      False     False         False          False     False   \n",
       "\n",
       "  is_super_up_shop        location max_cpc                    name  \\\n",
       "0             None  서울특별시 노원구 하계2동    None  [새상품,265] 뉴발란스 992 그레이   \n",
       "\n",
       "  num_comment num_faved  only_neighborhood outlink_url        pid   price  \\\n",
       "0           0         0              False              169025678  380000   \n",
       "\n",
       "                                       product_image pu_id ref_campaign  \\\n",
       "0  https://media.bunjang.co.kr/product/169025678_...  None         None   \n",
       "\n",
       "            ref_code ref_medium ref_content ref_source status style super_up  \\\n",
       "0  soldout_test_v2:B       None                             0           None   \n",
       "\n",
       "                 tag      uid  update_time  used  bun_pay_filter_enabled  \\\n",
       "0  992 뉴발992 뉴발란스992  8490543   1636542407     2                   False   \n",
       "\n",
       "                 imp_id ad_ref  faved            datetime  year  month  day  \\\n",
       "0  2993618baa9c0b7e12f6         False 2021-11-10 20:06:47  2021     11   10   \n",
       "\n",
       "   hour  \n",
       "0    20  "
      ]
     },
     "execution_count": 13,
     "metadata": {},
     "output_type": "execute_result"
    }
   ],
   "source": [
    "bunkae_df.head(1)"
   ]
  },
  {
   "cell_type": "markdown",
   "id": "222d69ed",
   "metadata": {},
   "source": [
    "# Final Keywords Crawling\n",
    "\n",
    "- 위의 함수들을 모두 적용한 셀이며, 이것만 실행하면 keywords 모두 다 크롤링해온다."
   ]
  },
  {
   "cell_type": "code",
   "execution_count": 14,
   "id": "773b88b3",
   "metadata": {},
   "outputs": [],
   "source": [
    "keywords = ['나이키 덩크로우 범고래', '뉴발란스 992 그레이']\n",
    "url = 'https://api.bunjang.co.kr/api/1/find_v2.json?q={}&order=date&page={}&request_id=20211110194853&stat_uid=77848616&token=c63b703f121940d189c222b3335d80ed&stat_device=w&n=100&stat_category_required=1&req_ref=search&version=4'"
   ]
  },
  {
   "cell_type": "code",
   "execution_count": 15,
   "id": "e6806927",
   "metadata": {},
   "outputs": [
    {
     "name": "stdout",
     "output_type": "stream",
     "text": [
      "나이키 덩크로우 범고래 크롤링 시작!\n",
      "0th, 100개째 상품을 크롤링 중\n",
      "1th, 200개째 상품을 크롤링 중\n",
      "2th, 300개째 상품을 크롤링 중\n",
      "3th, 400개째 상품을 크롤링 중\n",
      "4th, 500개째 상품을 크롤링 중\n",
      "크롤링 완료!!\n",
      "----------------------------------------\n",
      "뉴발란스 992 그레이 크롤링 시작!\n",
      "0th, 100개째 상품을 크롤링 중\n",
      "1th, 200개째 상품을 크롤링 중\n",
      "2th, 300개째 상품을 크롤링 중\n",
      "3th, 400개째 상품을 크롤링 중\n",
      "4th, 500개째 상품을 크롤링 중\n",
      "크롤링 완료!!\n",
      "----------------------------------------\n",
      "모든 신발 크롤링 완료!\n"
     ]
    }
   ],
   "source": [
    "# test로 keyword별로 500개씩만 가져와본다. (n=5 : default는 2000개씩)\n",
    "\n",
    "bunkae = pd.DataFrame()\n",
    "for keyword in keywords:\n",
    "    print(f'{keyword} 크롤링 시작!')\n",
    "    shoe_df = bunkae_crawler(keyword, n=5)\n",
    "    bunkae = pd.concat([bunkae, shoe_df])\n",
    "    print('----'*10)\n",
    "print('모든 신발 크롤링 완료!')\n",
    "bunkae = bunkae.reset_index(drop=True)\n",
    "bunkae_df = bunkae.copy()\n",
    "deduplicator(bunkae_df)\n",
    "bunkae_df = datetime_maker(bunkae_df)"
   ]
  },
  {
   "cell_type": "code",
   "execution_count": 16,
   "id": "b0f9b228",
   "metadata": {
    "scrolled": true
   },
   "outputs": [
    {
     "data": {
      "text/plain": [
       "0      나이키 공홈당첨 덩크로우 범고래 280mm 새상품 팝니다\n",
       "1         [w240] 나이키 덩크 로우 범고래 우먼스 240\n",
       "2             나이키 덩크로우 레트로 블랙(범고래) 270\n",
       "3                 나이키 범고래 덩크로우 빅키즈 230\n",
       "4          나이키 덩크로우 범고래 우먼스 w250mm 새제품\n",
       "                    ...               \n",
       "995                      뉴발란스 992 그레이 \n",
       "996                 [270] 뉴발란스992 그레이 \n",
       "997                  [275]뉴발란스 993 그레이\n",
       "998    뉴발란스 992 그레이 295 사이즈 신품급 판매합니다.\n",
       "999                   뉴발란스 992 그레이 155\n",
       "Name: name, Length: 1000, dtype: object"
      ]
     },
     "execution_count": 16,
     "metadata": {},
     "output_type": "execute_result"
    }
   ],
   "source": [
    "bunkae_df['name']"
   ]
  },
  {
   "cell_type": "markdown",
   "id": "231699e5",
   "metadata": {},
   "source": [
    "**Raw Data 수집 완료**"
   ]
  },
  {
   "cell_type": "code",
   "execution_count": 17,
   "id": "abb29667",
   "metadata": {},
   "outputs": [],
   "source": [
    "bunkae_df.to_csv('./data/bunkae_rawdata.csv')\n",
    "# 불러올때는 첫번째컬럼 제거해 주어여함 df[1:]"
   ]
  },
  {
   "cell_type": "code",
   "execution_count": null,
   "id": "89876e1f",
   "metadata": {},
   "outputs": [],
   "source": []
  }
 ],
 "metadata": {
  "kernelspec": {
   "display_name": "Python 3",
   "language": "python",
   "name": "python3"
  },
  "language_info": {
   "codemirror_mode": {
    "name": "ipython",
    "version": 3
   },
   "file_extension": ".py",
   "mimetype": "text/x-python",
   "name": "python",
   "nbconvert_exporter": "python",
   "pygments_lexer": "ipython3",
   "version": "3.8.8"
  },
  "toc": {
   "base_numbering": 1,
   "nav_menu": {},
   "number_sections": true,
   "sideBar": true,
   "skip_h1_title": false,
   "title_cell": "Table of Contents",
   "title_sidebar": "Contents",
   "toc_cell": false,
   "toc_position": {},
   "toc_section_display": true,
   "toc_window_display": false
  },
  "varInspector": {
   "cols": {
    "lenName": 16,
    "lenType": 16,
    "lenVar": 40
   },
   "kernels_config": {
    "python": {
     "delete_cmd_postfix": "",
     "delete_cmd_prefix": "del ",
     "library": "var_list.py",
     "varRefreshCmd": "print(var_dic_list())"
    },
    "r": {
     "delete_cmd_postfix": ") ",
     "delete_cmd_prefix": "rm(",
     "library": "var_list.r",
     "varRefreshCmd": "cat(var_dic_list()) "
    }
   },
   "types_to_exclude": [
    "module",
    "function",
    "builtin_function_or_method",
    "instance",
    "_Feature"
   ],
   "window_display": false
  }
 },
 "nbformat": 4,
 "nbformat_minor": 5
}
