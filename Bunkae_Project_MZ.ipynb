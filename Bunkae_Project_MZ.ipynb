{
 "cells": [
  {
   "cell_type": "markdown",
   "id": "5e86c604",
   "metadata": {},
   "source": [
    "# 중고나라 데이터 분석 프로젝트(가제)\n",
    "\n",
    "설명 : "
   ]
  },
  {
   "cell_type": "markdown",
   "id": "d511cc4c",
   "metadata": {},
   "source": [
    "## 패키지 임포트"
   ]
  },
  {
   "cell_type": "code",
   "execution_count": 3,
   "id": "529258c9",
   "metadata": {},
   "outputs": [],
   "source": [
    "import requests\n",
    "from bs4 import BeautifulSoup\n",
    "import json\n",
    "import time\n",
    "\n",
    "import pandas as pd\n",
    "import numpy as np\n",
    "\n",
    "\n",
    "pd.options.display.max_rows=100\n",
    "pd.options.display.max_columns=100"
   ]
  },
  {
   "cell_type": "markdown",
   "id": "270473d8",
   "metadata": {},
   "source": [
    "## 데이터 불러오기(크롤링)\n",
    "\n",
    "- 번개장터 '키워드' 검색 데이터"
   ]
  },
  {
   "cell_type": "code",
   "execution_count": 166,
   "id": "6c2ca49a",
   "metadata": {
    "scrolled": true
   },
   "outputs": [
    {
     "name": "stdout",
     "output_type": "stream",
     "text": [
      "0회차 크롤링 중입니다.\n",
      "1회차 크롤링 중입니다.\n",
      "2회차 크롤링 중입니다.\n",
      "3회차 크롤링 중입니다.\n",
      "4회차 크롤링 중입니다.\n",
      "5회차 크롤링 중입니다.\n",
      "6회차 크롤링 중입니다.\n",
      "7회차 크롤링 중입니다.\n",
      "8회차 크롤링 중입니다.\n",
      "9회차 크롤링 중입니다.\n",
      "크롤링 완료!!\n"
     ]
    }
   ],
   "source": [
    "# keyword = '범고래'\n",
    "bunkae = pd.DataFrame()\n",
    "\n",
    "info = {\n",
    "    'referer': 'https://m.bunjang.co.kr/',\n",
    "    'user-agent': 'Mozilla/5.0 (Macintosh; Intel Mac OS X 10_15_7) AppleWebKit/537.36 (KHTML, like Gecko) Chrome/95.0.4638.54 Safari/537.36'\n",
    "    }\n",
    "\n",
    "for i in range(0,10):\n",
    "    \n",
    "    # 차단막는 코드, 랜덤으로 time.sleep 지정\n",
    "    seed = np.random.randint(100)\n",
    "    np.random.seed(seed)\n",
    "    a = np.random.randint(5)\n",
    "    time.sleep(a)\n",
    "    \n",
    "    # url 설정 (i는 0부터 시작, page=0,1,2,3 ....)\n",
    "    url = f'https://api.bunjang.co.kr/api/1/find_v2.json?q=%EB%82%98%EC%9D%B4%ED%82%A4+%EB%8D%A9%ED%81%AC%EB%A1%9C%EC%9A%B0+%EB%B2%94%EA%B3%A0%EB%9E%98&order=score&page={i}&request_id=20211109155207&stat_device=w&n=100&stat_category_required=1&req_ref=search&version=4'\n",
    "\n",
    "    print(f'{i}회차 크롤링 중입니다.')\n",
    "    # requests로 데이터 요청하기\n",
    "    resp = requests.get(url, headers = info)\n",
    "    \n",
    "    if resp.status_code == requests.codes.ok:\n",
    "        data = json.loads(resp.text)\n",
    "        prior_bunkae = pd.DataFrame(data['list'])\n",
    "        bunkae = pd.concat([prior_bunkae, bunkae])\n",
    "\n",
    "        \n",
    "    else:\n",
    "        print(f'{i}번째 요청이 잘 못 되었습니다.')\n",
    "        pass # 넘겨준다.\n",
    "              \n",
    "print('크롤링 완료!!')"
   ]
  },
  {
   "cell_type": "code",
   "execution_count": 151,
   "id": "9bc51389",
   "metadata": {},
   "outputs": [
    {
     "data": {
      "text/html": [
       "<div>\n",
       "<style scoped>\n",
       "    .dataframe tbody tr th:only-of-type {\n",
       "        vertical-align: middle;\n",
       "    }\n",
       "\n",
       "    .dataframe tbody tr th {\n",
       "        vertical-align: top;\n",
       "    }\n",
       "\n",
       "    .dataframe thead th {\n",
       "        text-align: right;\n",
       "    }\n",
       "</style>\n",
       "<table border=\"1\" class=\"dataframe\">\n",
       "  <thead>\n",
       "    <tr style=\"text-align: right;\">\n",
       "      <th></th>\n",
       "      <th>location</th>\n",
       "      <th>name</th>\n",
       "      <th>num_faved</th>\n",
       "      <th>pid</th>\n",
       "      <th>price</th>\n",
       "      <th>status</th>\n",
       "      <th>uid</th>\n",
       "      <th>update_time</th>\n",
       "      <th>used</th>\n",
       "    </tr>\n",
       "  </thead>\n",
       "  <tbody>\n",
       "    <tr>\n",
       "      <th>0</th>\n",
       "      <td>서울특별시 성북구 정릉제4동</td>\n",
       "      <td>나이키 덩크로우 범고래 260사이즈</td>\n",
       "      <td>2</td>\n",
       "      <td>167914633</td>\n",
       "      <td>245000</td>\n",
       "      <td>3</td>\n",
       "      <td>4507038</td>\n",
       "      <td>1635063900</td>\n",
       "      <td>1</td>\n",
       "    </tr>\n",
       "    <tr>\n",
       "      <th>1</th>\n",
       "      <td>경기도 화성시 남양읍</td>\n",
       "      <td>(260)나이키 덩크로우 범고래 새제품</td>\n",
       "      <td>3</td>\n",
       "      <td>167785164</td>\n",
       "      <td>100</td>\n",
       "      <td>3</td>\n",
       "      <td>359666</td>\n",
       "      <td>1635124528</td>\n",
       "      <td>2</td>\n",
       "    </tr>\n",
       "    <tr>\n",
       "      <th>2</th>\n",
       "      <td>광주광역시 북구 오치1동</td>\n",
       "      <td>나이키 덩크로우 범고래 265팔아요 - 260 교환 받아요</td>\n",
       "      <td>0</td>\n",
       "      <td>168514938</td>\n",
       "      <td>290000</td>\n",
       "      <td>3</td>\n",
       "      <td>3735964</td>\n",
       "      <td>1635756263</td>\n",
       "      <td>1</td>\n",
       "    </tr>\n",
       "    <tr>\n",
       "      <th>3</th>\n",
       "      <td></td>\n",
       "      <td>나이키 덩크로우 우먼스 범고래 240</td>\n",
       "      <td>1</td>\n",
       "      <td>168112400</td>\n",
       "      <td>300000</td>\n",
       "      <td>3</td>\n",
       "      <td>7592353</td>\n",
       "      <td>1635244834</td>\n",
       "      <td>1</td>\n",
       "    </tr>\n",
       "    <tr>\n",
       "      <th>4</th>\n",
       "      <td>충청북도 청주시 청원구 오창읍</td>\n",
       "      <td>나이키 덩크로우 레트로 범고래 245 사이즈  새상품</td>\n",
       "      <td>2</td>\n",
       "      <td>167661693</td>\n",
       "      <td>355000</td>\n",
       "      <td>3</td>\n",
       "      <td>4574063</td>\n",
       "      <td>1635642580</td>\n",
       "      <td>1</td>\n",
       "    </tr>\n",
       "    <tr>\n",
       "      <th>...</th>\n",
       "      <td>...</td>\n",
       "      <td>...</td>\n",
       "      <td>...</td>\n",
       "      <td>...</td>\n",
       "      <td>...</td>\n",
       "      <td>...</td>\n",
       "      <td>...</td>\n",
       "      <td>...</td>\n",
       "      <td>...</td>\n",
       "    </tr>\n",
       "    <tr>\n",
       "      <th>95</th>\n",
       "      <td></td>\n",
       "      <td>280 나이키 덩크로우 범고래</td>\n",
       "      <td>2</td>\n",
       "      <td>168722425</td>\n",
       "      <td>329000</td>\n",
       "      <td>0</td>\n",
       "      <td>4502829</td>\n",
       "      <td>1636429881</td>\n",
       "      <td>1</td>\n",
       "    </tr>\n",
       "    <tr>\n",
       "      <th>96</th>\n",
       "      <td>경기도 남양주시 별내동</td>\n",
       "      <td>[260]나이키 범고래 덩크로우</td>\n",
       "      <td>3</td>\n",
       "      <td>169078890</td>\n",
       "      <td>330000</td>\n",
       "      <td>0</td>\n",
       "      <td>77446379</td>\n",
       "      <td>1636429469</td>\n",
       "      <td>2</td>\n",
       "    </tr>\n",
       "    <tr>\n",
       "      <th>97</th>\n",
       "      <td>인천광역시 계양구 작전2동</td>\n",
       "      <td>[260]나이키 덩크로우 범고래</td>\n",
       "      <td>2</td>\n",
       "      <td>168525623</td>\n",
       "      <td>360000</td>\n",
       "      <td>0</td>\n",
       "      <td>8353590</td>\n",
       "      <td>1636427935</td>\n",
       "      <td>2</td>\n",
       "    </tr>\n",
       "    <tr>\n",
       "      <th>98</th>\n",
       "      <td>경기도 안산시 상록구 월피동</td>\n",
       "      <td>나이키 덩크로우 범고래 W 240</td>\n",
       "      <td>4</td>\n",
       "      <td>168507403</td>\n",
       "      <td>350000</td>\n",
       "      <td>0</td>\n",
       "      <td>75453529</td>\n",
       "      <td>1636435710</td>\n",
       "      <td>2</td>\n",
       "    </tr>\n",
       "    <tr>\n",
       "      <th>99</th>\n",
       "      <td>제주특별자치도 제주시 이도2동</td>\n",
       "      <td>나이키 덩크로우 범고래gs 225</td>\n",
       "      <td>2</td>\n",
       "      <td>169217843</td>\n",
       "      <td>295000</td>\n",
       "      <td>0</td>\n",
       "      <td>3016551</td>\n",
       "      <td>1636425168</td>\n",
       "      <td>1</td>\n",
       "    </tr>\n",
       "  </tbody>\n",
       "</table>\n",
       "<p>1000 rows × 9 columns</p>\n",
       "</div>"
      ],
      "text/plain": [
       "            location                               name num_faved        pid  \\\n",
       "0    서울특별시 성북구 정릉제4동                나이키 덩크로우 범고래 260사이즈         2  167914633   \n",
       "1        경기도 화성시 남양읍              (260)나이키 덩크로우 범고래 새제품         3  167785164   \n",
       "2      광주광역시 북구 오치1동  나이키 덩크로우 범고래 265팔아요 - 260 교환 받아요          0  168514938   \n",
       "3                                  나이키 덩크로우 우먼스 범고래 240         1  168112400   \n",
       "4   충청북도 청주시 청원구 오창읍      나이키 덩크로우 레트로 범고래 245 사이즈  새상품         2  167661693   \n",
       "..               ...                                ...       ...        ...   \n",
       "95                                     280 나이키 덩크로우 범고래         2  168722425   \n",
       "96      경기도 남양주시 별내동                  [260]나이키 범고래 덩크로우         3  169078890   \n",
       "97    인천광역시 계양구 작전2동                  [260]나이키 덩크로우 범고래         2  168525623   \n",
       "98   경기도 안산시 상록구 월피동                 나이키 덩크로우 범고래 W 240         4  168507403   \n",
       "99  제주특별자치도 제주시 이도2동                 나이키 덩크로우 범고래gs 225         2  169217843   \n",
       "\n",
       "     price status       uid  update_time  used  \n",
       "0   245000      3   4507038   1635063900     1  \n",
       "1      100      3    359666   1635124528     2  \n",
       "2   290000      3   3735964   1635756263     1  \n",
       "3   300000      3   7592353   1635244834     1  \n",
       "4   355000      3   4574063   1635642580     1  \n",
       "..     ...    ...       ...          ...   ...  \n",
       "95  329000      0   4502829   1636429881     1  \n",
       "96  330000      0  77446379   1636429469     2  \n",
       "97  360000      0   8353590   1636427935     2  \n",
       "98  350000      0  75453529   1636435710     2  \n",
       "99  295000      0   3016551   1636425168     1  \n",
       "\n",
       "[1000 rows x 9 columns]"
      ]
     },
     "execution_count": 151,
     "metadata": {},
     "output_type": "execute_result"
    }
   ],
   "source": [
    "columns = [\"location\", \"name\",\"num_faved\", \"pid\", \"price\",\"status\",\"uid\",\"update_time\",\"used\"]\n",
    "df= bunkae.loc[: ,columns]\n",
    "df"
   ]
  },
  {
   "cell_type": "code",
   "execution_count": 152,
   "id": "9b1c2ae4",
   "metadata": {},
   "outputs": [],
   "source": [
    "def make_city (x) :\n",
    "    return str(x).split()"
   ]
  },
  {
   "cell_type": "code",
   "execution_count": 163,
   "id": "d4f4eab4",
   "metadata": {},
   "outputs": [],
   "source": [
    "df1 = df[\"location\"].apply(make_city).reset_index()"
   ]
  },
  {
   "cell_type": "code",
   "execution_count": 165,
   "id": "d06f8d59",
   "metadata": {},
   "outputs": [
    {
     "data": {
      "text/plain": [
       "0        [서울특별시, 성북구, 정릉제4동]\n",
       "1            [경기도, 화성시, 남양읍]\n",
       "2          [광주광역시, 북구, 오치1동]\n",
       "3                         []\n",
       "4      [충청북도, 청주시, 청원구, 오창읍]\n",
       "               ...          \n",
       "995                       []\n",
       "996         [경기도, 남양주시, 별내동]\n",
       "997       [인천광역시, 계양구, 작전2동]\n",
       "998     [경기도, 안산시, 상록구, 월피동]\n",
       "999     [제주특별자치도, 제주시, 이도2동]\n",
       "Name: location, Length: 1000, dtype: object"
      ]
     },
     "execution_count": 165,
     "metadata": {},
     "output_type": "execute_result"
    }
   ],
   "source": [
    "df1[\"location\"]"
   ]
  },
  {
   "cell_type": "markdown",
   "id": "d7ddfd97",
   "metadata": {},
   "source": [
    "제품명을  fullname으로 사용할 필요가 없을거 같아서 줄이는게 나을듯 "
   ]
  },
  {
   "cell_type": "code",
   "execution_count": 58,
   "id": "e656a315",
   "metadata": {},
   "outputs": [
    {
     "name": "stdout",
     "output_type": "stream",
     "text": [
      "<class 'pandas.core.frame.DataFrame'>\n",
      "Int64Index: 1000 entries, 0 to 99\n",
      "Data columns (total 19 columns):\n",
      " #   Column         Non-Null Count  Dtype \n",
      "---  ------         --------------  ----- \n",
      " 0   location       1000 non-null   object\n",
      " 1   name           1000 non-null   object\n",
      " 2   num_comment    1000 non-null   object\n",
      " 3   num_faved      1000 non-null   object\n",
      " 4   outlink_url    1000 non-null   object\n",
      " 5   pid            1000 non-null   object\n",
      " 6   price          1000 non-null   object\n",
      " 7   product_image  1000 non-null   object\n",
      " 8   ref_code       1000 non-null   object\n",
      " 9   ref_content    1000 non-null   object\n",
      " 10  ref_source     1000 non-null   object\n",
      " 11  status         1000 non-null   object\n",
      " 12  style          1000 non-null   object\n",
      " 13  tag            1000 non-null   object\n",
      " 14  uid            1000 non-null   object\n",
      " 15  update_time    1000 non-null   int64 \n",
      " 16  used           1000 non-null   int64 \n",
      " 17  imp_id         1000 non-null   object\n",
      " 18  city           1000 non-null   object\n",
      "dtypes: int64(2), object(17)\n",
      "memory usage: 172.4+ KB\n"
     ]
    }
   ],
   "source": [
    "df.info()"
   ]
  },
  {
   "cell_type": "markdown",
   "id": "d68c9ea3",
   "metadata": {},
   "source": [
    "# 번개장터 데이터 설명\n",
    "\n",
    "from : https://m.bunjang.co.kr/  (중고상품 판매 플랫폼 번개장터)\n",
    "\n",
    "### 컬럼 설명\n",
    "\n",
    "**굵은 글씨**는 우리 분석에 꼭 필요한 컬럼\n",
    "\n",
    "- location : 등록 주소\n",
    "- **name** : 판매자가 등록한 상품명\n",
    "- **num_faved** : 좋아요 수\n",
    "- pid : 상품아이디, @@@@@@@에 입력하면 해당 페이지로 이동함.-> https://m.bunjang.co.kr/products/@@@@@@@?q=%EB%82%98%EC%9D%B4%ED%82%A4%20%EB%8D%A9%ED%81%AC%EB%A1%9C%EC%9A%B0%20%EB%B2%94%EA%B3%A0%EB%9E%98&ref=%EA%B2%80%EC%83%89%EA%B2%B0%EA%B3%BC\n",
    "- **price** : 가격\n",
    "- product_image : 이미지 주소\n",
    "- tag : 태그\n",
    "- uid : 상품자 아이디? 아직 잘 모름\n",
    "- status (0 / 1 / 3) : 이건 뭔지 아직 모름\n",
    "- **update_time** : 등록일 (기준은 찾아서 datetime형식으로 변환해야함)\n",
    "- **used** (1 = 중고 / 2 = 새상품 / 13 = 중고) : 상품상태  # 1과 13의 차이 아직 찾지 못했음"
   ]
  },
  {
   "cell_type": "markdown",
   "id": "a04d8593",
   "metadata": {},
   "source": [
    "상품명이 있어서 tag col 지워도 무방할거 같은데????"
   ]
  },
  {
   "cell_type": "markdown",
   "id": "678af59e",
   "metadata": {},
   "source": [
    "# EDA"
   ]
  },
  {
   "cell_type": "code",
   "execution_count": null,
   "id": "80bea4f3",
   "metadata": {},
   "outputs": [],
   "source": []
  }
 ],
 "metadata": {
  "kernelspec": {
   "display_name": "Python 3",
   "language": "python",
   "name": "python3"
  },
  "language_info": {
   "codemirror_mode": {
    "name": "ipython",
    "version": 3
   },
   "file_extension": ".py",
   "mimetype": "text/x-python",
   "name": "python",
   "nbconvert_exporter": "python",
   "pygments_lexer": "ipython3",
   "version": "3.8.8"
  }
 },
 "nbformat": 4,
 "nbformat_minor": 5
}
