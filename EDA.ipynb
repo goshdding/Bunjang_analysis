{
 "cells": [
  {
   "cell_type": "markdown",
   "id": "13ffca59",
   "metadata": {},
   "source": [
    "### 패키지 임포트"
   ]
  },
  {
   "cell_type": "code",
   "execution_count": 45,
   "id": "ab561b34",
   "metadata": {},
   "outputs": [],
   "source": [
    "import pandas as pd\n",
    "import numpy as np\n",
    "import matplotlib.pyplot as plt\n",
    "import seaborn as sns\n",
    "%matplotlib inline\n",
    "\n",
    "import warnings\n",
    "warnings.filterwarnings(action='ignore')\n",
    "\n",
    "import matplotlib\n",
    "matplotlib.rc('font', family='AppleGothic')\n",
    "matplotlib.rc('axes', unicode_minus=False)\n",
    "\n",
    "from IPython.display import set_matplotlib_formats\n",
    "set_matplotlib_formats('retina')\n",
    "\n",
    "# pd.options.display.max_rows=100\n",
    "# pd.options.display.max_columns=100\n",
    "# pd.set_option('display.float_format','{:.4f}'.format)"
   ]
  },
  {
   "cell_type": "markdown",
   "id": "823986c0",
   "metadata": {},
   "source": [
    "### 1. Data Load"
   ]
  },
  {
   "cell_type": "markdown",
   "id": "c8c19e5c",
   "metadata": {},
   "source": [
    "내 파일"
   ]
  },
  {
   "cell_type": "code",
   "execution_count": 46,
   "id": "bdb329ab",
   "metadata": {},
   "outputs": [],
   "source": [
    "import os\n",
    "\n",
    "path = './data/data_for_eda/'\n",
    "file_list = os.listdir(path)\n",
    "file_list_py = [file for file in file_list if file.endswith('.csv')] ## 파일명 끝이 .csv인 경우"
   ]
  },
  {
   "cell_type": "code",
   "execution_count": 47,
   "id": "b7ea7f4a",
   "metadata": {},
   "outputs": [],
   "source": [
    "## csv 파일들을 DataFrame으로 불러와서 concat\n",
    "\n",
    "df = pd.DataFrame()\n",
    "for i in file_list_py:\n",
    "    data = pd.read_csv(path + i)\n",
    "    df = pd.concat([df,data])\n",
    "    \n",
    "df = df.reset_index(drop = True)"
   ]
  },
  {
   "cell_type": "code",
   "execution_count": 48,
   "id": "8b2daa20",
   "metadata": {},
   "outputs": [],
   "source": [
    "df = df.drop(df.columns[0],axis=1)"
   ]
  },
  {
   "cell_type": "markdown",
   "id": "7fa973bb",
   "metadata": {},
   "source": [
    "승혁이 파일"
   ]
  },
  {
   "cell_type": "code",
   "execution_count": 49,
   "id": "100c2052",
   "metadata": {},
   "outputs": [],
   "source": [
    "path = './data/data_sh/'\n",
    "file_list = os.listdir(path)\n",
    "file_list_py = [file for file in file_list if file.endswith('.csv')] ## 파일명 끝이 .csv인 경우"
   ]
  },
  {
   "cell_type": "code",
   "execution_count": 50,
   "id": "88962ce4",
   "metadata": {},
   "outputs": [],
   "source": [
    "## csv 파일들을 DataFrame으로 불러와서 concat\n",
    "\n",
    "df2 = pd.DataFrame()\n",
    "for i in file_list_py:\n",
    "    data = pd.read_csv(path + i)\n",
    "    df2 = pd.concat([df2,data])\n",
    "    \n",
    "df2 = df2.reset_index(drop = True)"
   ]
  },
  {
   "cell_type": "code",
   "execution_count": 51,
   "id": "205a1306",
   "metadata": {},
   "outputs": [],
   "source": [
    "df2 = df2.drop(df2.columns[0],axis=1)"
   ]
  },
  {
   "cell_type": "code",
   "execution_count": 52,
   "id": "9f7aa1b1",
   "metadata": {},
   "outputs": [],
   "source": [
    "df2 = df2.drop(df2.columns[-1],axis=1)"
   ]
  },
  {
   "cell_type": "markdown",
   "id": "cf89ffa4",
   "metadata": {},
   "source": [
    "Merge"
   ]
  },
  {
   "cell_type": "code",
   "execution_count": 53,
   "id": "eeac4d66",
   "metadata": {
    "scrolled": false
   },
   "outputs": [
    {
     "data": {
      "text/plain": [
       "Index(['location', 'name', 'num_faved', 'pid', 'price', 'status', 'uid',\n",
       "       'update_time', 'used', 'datetime', 'date', 'product_name', 'brand',\n",
       "       'product_type', 'color', 'size', 'release_price', 'location1',\n",
       "       'location2', 'location3'],\n",
       "      dtype='object')"
      ]
     },
     "execution_count": 53,
     "metadata": {},
     "output_type": "execute_result"
    }
   ],
   "source": [
    "df.columns"
   ]
  },
  {
   "cell_type": "code",
   "execution_count": 59,
   "id": "c7945e30",
   "metadata": {},
   "outputs": [
    {
     "data": {
      "text/plain": [
       "(7103, 20)"
      ]
     },
     "execution_count": 59,
     "metadata": {},
     "output_type": "execute_result"
    }
   ],
   "source": [
    "df.shape"
   ]
  },
  {
   "cell_type": "code",
   "execution_count": 54,
   "id": "e04fa726",
   "metadata": {
    "scrolled": false
   },
   "outputs": [
    {
     "data": {
      "text/plain": [
       "Index(['location', 'name', 'num_faved', 'pid', 'price', 'status', 'uid',\n",
       "       'update_time', 'used', 'datetime', 'date', 'size', 'product_name',\n",
       "       'brand', 'product_type', 'color', 'release_price', 'location1',\n",
       "       'location2', 'location3'],\n",
       "      dtype='object')"
      ]
     },
     "execution_count": 54,
     "metadata": {},
     "output_type": "execute_result"
    }
   ],
   "source": [
    "df2.columns"
   ]
  },
  {
   "cell_type": "code",
   "execution_count": 61,
   "id": "dd880295",
   "metadata": {},
   "outputs": [
    {
     "data": {
      "text/plain": [
       "(518, 20)"
      ]
     },
     "execution_count": 61,
     "metadata": {},
     "output_type": "execute_result"
    }
   ],
   "source": [
    "df2.shape"
   ]
  },
  {
   "cell_type": "code",
   "execution_count": 55,
   "id": "186201e0",
   "metadata": {},
   "outputs": [],
   "source": [
    "# 컬럼 정렬 (통일)\n",
    "df2 = df2[df.columns]"
   ]
  },
  {
   "cell_type": "code",
   "execution_count": 56,
   "id": "dcc6e569",
   "metadata": {},
   "outputs": [],
   "source": [
    "rawdata = pd.concat([df,df2])"
   ]
  },
  {
   "cell_type": "code",
   "execution_count": 58,
   "id": "54f18047",
   "metadata": {},
   "outputs": [
    {
     "data": {
      "text/plain": [
       "(7621, 20)"
      ]
     },
     "execution_count": 58,
     "metadata": {},
     "output_type": "execute_result"
    }
   ],
   "source": [
    "rawdata.shape"
   ]
  },
  {
   "cell_type": "code",
   "execution_count": 57,
   "id": "8be5b7ef",
   "metadata": {},
   "outputs": [
    {
     "data": {
      "text/plain": [
       "7621"
      ]
     },
     "execution_count": 57,
     "metadata": {},
     "output_type": "execute_result"
    }
   ],
   "source": [
    "len(rawdata)"
   ]
  },
  {
   "cell_type": "code",
   "execution_count": 44,
   "id": "354551d7",
   "metadata": {},
   "outputs": [],
   "source": [
    "rawdata.to_csv('./data/rawdata.csv')"
   ]
  },
  {
   "cell_type": "markdown",
   "id": "4d6fbd03",
   "metadata": {},
   "source": [
    "### 분석 시작"
   ]
  },
  {
   "cell_type": "code",
   "execution_count": 18,
   "id": "6e09b5a2",
   "metadata": {},
   "outputs": [],
   "source": [
    "newbal_df = df[df['brand'] == '뉴발란스']"
   ]
  },
  {
   "cell_type": "code",
   "execution_count": 27,
   "id": "34fe61ac",
   "metadata": {},
   "outputs": [
    {
     "data": {
      "text/plain": [
       "20"
      ]
     },
     "execution_count": 27,
     "metadata": {},
     "output_type": "execute_result"
    }
   ],
   "source": [
    "len(newbal_df.columns)"
   ]
  },
  {
   "cell_type": "code",
   "execution_count": null,
   "id": "a500f1b1",
   "metadata": {},
   "outputs": [],
   "source": []
  },
  {
   "cell_type": "code",
   "execution_count": null,
   "id": "b3feb6c3",
   "metadata": {},
   "outputs": [],
   "source": []
  },
  {
   "cell_type": "code",
   "execution_count": null,
   "id": "5818a90b",
   "metadata": {},
   "outputs": [],
   "source": []
  }
 ],
 "metadata": {
  "kernelspec": {
   "display_name": "Python 3",
   "language": "python",
   "name": "python3"
  },
  "language_info": {
   "codemirror_mode": {
    "name": "ipython",
    "version": 3
   },
   "file_extension": ".py",
   "mimetype": "text/x-python",
   "name": "python",
   "nbconvert_exporter": "python",
   "pygments_lexer": "ipython3",
   "version": "3.8.8"
  },
  "toc": {
   "base_numbering": 1,
   "nav_menu": {},
   "number_sections": true,
   "sideBar": true,
   "skip_h1_title": false,
   "title_cell": "Table of Contents",
   "title_sidebar": "Contents",
   "toc_cell": false,
   "toc_position": {},
   "toc_section_display": true,
   "toc_window_display": false
  },
  "varInspector": {
   "cols": {
    "lenName": 16,
    "lenType": 16,
    "lenVar": 40
   },
   "kernels_config": {
    "python": {
     "delete_cmd_postfix": "",
     "delete_cmd_prefix": "del ",
     "library": "var_list.py",
     "varRefreshCmd": "print(var_dic_list())"
    },
    "r": {
     "delete_cmd_postfix": ") ",
     "delete_cmd_prefix": "rm(",
     "library": "var_list.r",
     "varRefreshCmd": "cat(var_dic_list()) "
    }
   },
   "types_to_exclude": [
    "module",
    "function",
    "builtin_function_or_method",
    "instance",
    "_Feature"
   ],
   "window_display": false
  }
 },
 "nbformat": 4,
 "nbformat_minor": 5
}
