{
 "cells": [
  {
   "cell_type": "markdown",
   "id": "5e86c604",
   "metadata": {},
   "source": [
    "# 중고나라 데이터 분석 프로젝트(가제)\n",
    "\n",
    "설명 : "
   ]
  },
  {
   "cell_type": "markdown",
   "id": "d511cc4c",
   "metadata": {},
   "source": [
    "## 패키지 임포트"
   ]
  },
  {
   "cell_type": "code",
   "execution_count": 58,
   "id": "529258c9",
   "metadata": {},
   "outputs": [],
   "source": [
    "import requests\n",
    "from bs4 import BeautifulSoup\n",
    "import json\n",
    "import time\n",
    "\n",
    "import pandas as pd\n",
    "import numpy as np\n",
    "\n",
    "\n",
    "pd.options.display.max_rows=100\n",
    "pd.options.display.max_columns=100"
   ]
  },
  {
   "cell_type": "markdown",
   "id": "270473d8",
   "metadata": {},
   "source": [
    "## 데이터 불러오기(크롤링)\n",
    "\n",
    "- 번개장터 '키워드' 검색 데이터"
   ]
  },
  {
   "cell_type": "code",
   "execution_count": 83,
   "id": "6c2ca49a",
   "metadata": {
    "scrolled": true
   },
   "outputs": [
    {
     "name": "stdout",
     "output_type": "stream",
     "text": [
      "0회차 크롤링 중입니다.\n",
      "1회차 크롤링 중입니다.\n",
      "2회차 크롤링 중입니다.\n",
      "3회차 크롤링 중입니다.\n",
      "4회차 크롤링 중입니다.\n",
      "5회차 크롤링 중입니다.\n",
      "6회차 크롤링 중입니다.\n",
      "7회차 크롤링 중입니다.\n",
      "8회차 크롤링 중입니다.\n",
      "9회차 크롤링 중입니다.\n",
      "크롤링 완료!!\n"
     ]
    }
   ],
   "source": [
    "# keyword = '범고래'\n",
    "bunkae = pd.DataFrame()\n",
    "\n",
    "info = {\n",
    "    'referer': 'https://m.bunjang.co.kr/',\n",
    "    'user-agent': 'Mozilla/5.0 (Macintosh; Intel Mac OS X 10_15_7) AppleWebKit/537.36 (KHTML, like Gecko) Chrome/95.0.4638.54 Safari/537.36'\n",
    "    }\n",
    "\n",
    "for i in range(0,10):\n",
    "    \n",
    "    # 차단막는 코드, 랜덤으로 time.sleep 지정\n",
    "    seed = np.random.randint(100)\n",
    "    np.random.seed(seed)\n",
    "    a = np.random.randint(5)\n",
    "    time.sleep(a)\n",
    "    \n",
    "    # url 설정 (i는 0부터 시작, page=0,1,2,3 ....)\n",
    "    url = f'https://api.bunjang.co.kr/api/1/find_v2.json?q=%EB%82%98%EC%9D%B4%ED%82%A4+%EB%8D%A9%ED%81%AC%EB%A1%9C%EC%9A%B0+%EB%B2%94%EA%B3%A0%EB%9E%98&order=score&page={i}&request_id=20211109155207&stat_device=w&n=100&stat_category_required=1&req_ref=search&version=4'\n",
    "\n",
    "    print(f'{i}회차 크롤링 중입니다.')\n",
    "    # requests로 데이터 요청하기\n",
    "    resp = requests.get(url, headers = info)\n",
    "    \n",
    "    if resp.status_code == requests.codes.ok:\n",
    "        data = json.loads(resp.text)\n",
    "        prior_bunkae = pd.DataFrame(data['list'])\n",
    "        bunkae = pd.concat([prior_bunkae, bunkae])\n",
    "\n",
    "        \n",
    "    else:\n",
    "        print(f'{i}번째 요청이 잘 못 되었습니다.')\n",
    "        pass # 넘겨준다.\n",
    "              \n",
    "print('크롤링 완료!!')"
   ]
  },
  {
   "cell_type": "markdown",
   "id": "d68c9ea3",
   "metadata": {},
   "source": [
    "# 번개장터 데이터 설명\n",
    "\n",
    "from : https://m.bunjang.co.kr/  (중고상품 판매 플랫폼 번개장터)\n",
    "\n",
    "### 컬럼 설명\n",
    "\n",
    "**굵은 글씨**는 우리 분석에 꼭 필요한 컬럼\n",
    "\n",
    "- location : 등록 주소\n",
    "- **name** : 판매자가 등록한 상품명\n",
    "- **num_faved** : 좋아요 수\n",
    "- pid : 상품아이디, @@@@@@@에 입력하면 해당 페이지로 이동함.-> https://m.bunjang.co.kr/products/@@@@@@@?q=%EB%82%98%EC%9D%B4%ED%82%A4%20%EB%8D%A9%ED%81%AC%EB%A1%9C%EC%9A%B0%20%EB%B2%94%EA%B3%A0%EB%9E%98&ref=%EA%B2%80%EC%83%89%EA%B2%B0%EA%B3%BC\n",
    "- **price** : 가격\n",
    "- product_image : 이미지 주소\n",
    "- tag : 태그\n",
    "- uid : 상품자 아이디? 아직 잘 모름\n",
    "- status (0 / 1 / 3) : 이건 뭔지 아직 모름\n",
    "- **update_time** : 등록일 (기준은 찾아서 datetime형식으로 변환해야함)\n",
    "- **used** (1 = 중고 / 2 = 새상품 / 13 = 중고) : 상품상태  # 1과 13의 차이 아직 찾지 못했음"
   ]
  },
  {
   "cell_type": "markdown",
   "id": "678af59e",
   "metadata": {},
   "source": [
    "# EDA"
   ]
  },
  {
   "cell_type": "code",
   "execution_count": null,
   "id": "80bea4f3",
   "metadata": {},
   "outputs": [],
   "source": []
  }
 ],
 "metadata": {
  "kernelspec": {
   "display_name": "Python 3",
   "language": "python",
   "name": "python3"
  },
  "language_info": {
   "codemirror_mode": {
    "name": "ipython",
    "version": 3
   },
   "file_extension": ".py",
   "mimetype": "text/x-python",
   "name": "python",
   "nbconvert_exporter": "python",
   "pygments_lexer": "ipython3",
   "version": "3.8.8"
  },
  "toc": {
   "base_numbering": 1,
   "nav_menu": {},
   "number_sections": true,
   "sideBar": true,
   "skip_h1_title": false,
   "title_cell": "Table of Contents",
   "title_sidebar": "Contents",
   "toc_cell": false,
   "toc_position": {},
   "toc_section_display": true,
   "toc_window_display": false
  },
  "varInspector": {
   "cols": {
    "lenName": 16,
    "lenType": 16,
    "lenVar": 40
   },
   "kernels_config": {
    "python": {
     "delete_cmd_postfix": "",
     "delete_cmd_prefix": "del ",
     "library": "var_list.py",
     "varRefreshCmd": "print(var_dic_list())"
    },
    "r": {
     "delete_cmd_postfix": ") ",
     "delete_cmd_prefix": "rm(",
     "library": "var_list.r",
     "varRefreshCmd": "cat(var_dic_list()) "
    }
   },
   "types_to_exclude": [
    "module",
    "function",
    "builtin_function_or_method",
    "instance",
    "_Feature"
   ],
   "window_display": false
  }
 },
 "nbformat": 4,
 "nbformat_minor": 5
}
